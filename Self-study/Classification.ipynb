{
 "cells": [
  {
   "cell_type": "markdown",
   "metadata": {
    "id": "uJJXV-64H_E_"
   },
   "source": [
    "# Apresentação:"
   ]
  },
  {
   "cell_type": "markdown",
   "metadata": {
    "id": "Wqsoq8YaIC92"
   },
   "source": [
    "# Importações:"
   ]
  },
  {
   "cell_type": "code",
   "execution_count": 8,
   "metadata": {
    "executionInfo": {
     "elapsed": 274,
     "status": "ok",
     "timestamp": 1698626043459,
     "user": {
      "displayName": "André Amorim",
      "userId": "04859568826717067647"
     },
     "user_tz": 180
    },
    "id": "xIQq7eEWOkTV"
   },
   "outputs": [],
   "source": [
    "# Importações para utilização geral:\n",
    "import pandas as pd\n",
    "from matplotlib import pyplot as plt\n",
    "import seaborn as sns"
   ]
  },
  {
   "cell_type": "code",
   "execution_count": 9,
   "metadata": {
    "executionInfo": {
     "elapsed": 3,
     "status": "ok",
     "timestamp": 1698626043703,
     "user": {
      "displayName": "André Amorim",
      "userId": "04859568826717067647"
     },
     "user_tz": 180
    },
    "id": "MaqdCg6AW0JO"
   },
   "outputs": [],
   "source": [
    "# Importações referêntes ao sklearn:\n",
    "from sklearn.neighbors import KNeighborsClassifier\n",
    "from sklearn.model_selection import train_test_split\n",
    "from sklearn.metrics import accuracy_score\n",
    "from sklearn.preprocessing import MinMaxScaler"
   ]
  },
  {
   "cell_type": "markdown",
   "metadata": {
    "id": "E2ek2clA_o-7"
   },
   "source": [
    "\n",
    "\n",
    "```\n",
    "Note que as importações possuem dois tipos... Ou estamos importando\n",
    "funções, ou estamos importando classes. Note que as importações com\n",
    "letras maiúsculas são classes, enquanto as com apenas letras minúsculas\n",
    "são funções.\n",
    "```\n",
    "\n"
   ]
  },
  {
   "cell_type": "code",
   "execution_count": 10,
   "metadata": {
    "colab": {
     "base_uri": "https://localhost:8080/",
     "height": 649
    },
    "executionInfo": {
     "elapsed": 291,
     "status": "ok",
     "timestamp": 1698626043992,
     "user": {
      "displayName": "André Amorim",
      "userId": "04859568826717067647"
     },
     "user_tz": 180
    },
    "id": "BTCVIhxwOnnM",
    "outputId": "f6f9c639-39e9-4385-feba-cf98a70223c2"
   },
   "outputs": [
    {
     "name": "stdout",
     "output_type": "stream",
     "text": [
      "Informações do Dataframe:\n",
      "<class 'pandas.core.frame.DataFrame'>\n",
      "RangeIndex: 2500 entries, 0 to 2499\n",
      "Data columns (total 3 columns):\n",
      " #   Column          Non-Null Count  Dtype  \n",
      "---  ------          --------------  -----  \n",
      " 0   conta_corrente  2500 non-null   float64\n",
      " 1   idade           2500 non-null   float64\n",
      " 2   risco           2500 non-null   object \n",
      "dtypes: float64(2), object(1)\n",
      "memory usage: 58.7+ KB\n",
      "\n",
      "DataFrame:\n"
     ]
    },
    {
     "data": {
      "text/html": [
       "\n",
       "  <div id=\"df-dd2da0ff-18ae-4d61-8710-b10aa21e1c5a\" class=\"colab-df-container\">\n",
       "    <div>\n",
       "<style scoped>\n",
       "    .dataframe tbody tr th:only-of-type {\n",
       "        vertical-align: middle;\n",
       "    }\n",
       "\n",
       "    .dataframe tbody tr th {\n",
       "        vertical-align: top;\n",
       "    }\n",
       "\n",
       "    .dataframe thead th {\n",
       "        text-align: right;\n",
       "    }\n",
       "</style>\n",
       "<table border=\"1\" class=\"dataframe\">\n",
       "  <thead>\n",
       "    <tr style=\"text-align: right;\">\n",
       "      <th></th>\n",
       "      <th>idade</th>\n",
       "      <th>conta_corrente</th>\n",
       "      <th>risco</th>\n",
       "    </tr>\n",
       "  </thead>\n",
       "  <tbody>\n",
       "    <tr>\n",
       "      <th>0</th>\n",
       "      <td>21.257389</td>\n",
       "      <td>783.127911</td>\n",
       "      <td>ruim</td>\n",
       "    </tr>\n",
       "    <tr>\n",
       "      <th>1</th>\n",
       "      <td>21.766573</td>\n",
       "      <td>979.747521</td>\n",
       "      <td>bom</td>\n",
       "    </tr>\n",
       "    <tr>\n",
       "      <th>2</th>\n",
       "      <td>25.321033</td>\n",
       "      <td>1065.328054</td>\n",
       "      <td>ruim</td>\n",
       "    </tr>\n",
       "    <tr>\n",
       "      <th>3</th>\n",
       "      <td>23.919268</td>\n",
       "      <td>1195.758078</td>\n",
       "      <td>bom</td>\n",
       "    </tr>\n",
       "    <tr>\n",
       "      <th>4</th>\n",
       "      <td>21.805298</td>\n",
       "      <td>1083.764450</td>\n",
       "      <td>bom</td>\n",
       "    </tr>\n",
       "    <tr>\n",
       "      <th>...</th>\n",
       "      <td>...</td>\n",
       "      <td>...</td>\n",
       "      <td>...</td>\n",
       "    </tr>\n",
       "    <tr>\n",
       "      <th>2495</th>\n",
       "      <td>63.840703</td>\n",
       "      <td>2847.204903</td>\n",
       "      <td>ruim</td>\n",
       "    </tr>\n",
       "    <tr>\n",
       "      <th>2496</th>\n",
       "      <td>57.367341</td>\n",
       "      <td>3238.149058</td>\n",
       "      <td>bom</td>\n",
       "    </tr>\n",
       "    <tr>\n",
       "      <th>2497</th>\n",
       "      <td>65.785408</td>\n",
       "      <td>2603.620751</td>\n",
       "      <td>ruim</td>\n",
       "    </tr>\n",
       "    <tr>\n",
       "      <th>2498</th>\n",
       "      <td>52.944838</td>\n",
       "      <td>2985.948214</td>\n",
       "      <td>ruim</td>\n",
       "    </tr>\n",
       "    <tr>\n",
       "      <th>2499</th>\n",
       "      <td>52.426936</td>\n",
       "      <td>3673.193947</td>\n",
       "      <td>bom</td>\n",
       "    </tr>\n",
       "  </tbody>\n",
       "</table>\n",
       "<p>2500 rows × 3 columns</p>\n",
       "</div>\n",
       "    <div class=\"colab-df-buttons\">\n",
       "\n",
       "  <div class=\"colab-df-container\">\n",
       "    <button class=\"colab-df-convert\" onclick=\"convertToInteractive('df-dd2da0ff-18ae-4d61-8710-b10aa21e1c5a')\"\n",
       "            title=\"Convert this dataframe to an interactive table.\"\n",
       "            style=\"display:none;\">\n",
       "\n",
       "  <svg xmlns=\"http://www.w3.org/2000/svg\" height=\"24px\" viewBox=\"0 -960 960 960\">\n",
       "    <path d=\"M120-120v-720h720v720H120Zm60-500h600v-160H180v160Zm220 220h160v-160H400v160Zm0 220h160v-160H400v160ZM180-400h160v-160H180v160Zm440 0h160v-160H620v160ZM180-180h160v-160H180v160Zm440 0h160v-160H620v160Z\"/>\n",
       "  </svg>\n",
       "    </button>\n",
       "\n",
       "  <style>\n",
       "    .colab-df-container {\n",
       "      display:flex;\n",
       "      gap: 12px;\n",
       "    }\n",
       "\n",
       "    .colab-df-convert {\n",
       "      background-color: #E8F0FE;\n",
       "      border: none;\n",
       "      border-radius: 50%;\n",
       "      cursor: pointer;\n",
       "      display: none;\n",
       "      fill: #1967D2;\n",
       "      height: 32px;\n",
       "      padding: 0 0 0 0;\n",
       "      width: 32px;\n",
       "    }\n",
       "\n",
       "    .colab-df-convert:hover {\n",
       "      background-color: #E2EBFA;\n",
       "      box-shadow: 0px 1px 2px rgba(60, 64, 67, 0.3), 0px 1px 3px 1px rgba(60, 64, 67, 0.15);\n",
       "      fill: #174EA6;\n",
       "    }\n",
       "\n",
       "    .colab-df-buttons div {\n",
       "      margin-bottom: 4px;\n",
       "    }\n",
       "\n",
       "    [theme=dark] .colab-df-convert {\n",
       "      background-color: #3B4455;\n",
       "      fill: #D2E3FC;\n",
       "    }\n",
       "\n",
       "    [theme=dark] .colab-df-convert:hover {\n",
       "      background-color: #434B5C;\n",
       "      box-shadow: 0px 1px 3px 1px rgba(0, 0, 0, 0.15);\n",
       "      filter: drop-shadow(0px 1px 2px rgba(0, 0, 0, 0.3));\n",
       "      fill: #FFFFFF;\n",
       "    }\n",
       "  </style>\n",
       "\n",
       "    <script>\n",
       "      const buttonEl =\n",
       "        document.querySelector('#df-dd2da0ff-18ae-4d61-8710-b10aa21e1c5a button.colab-df-convert');\n",
       "      buttonEl.style.display =\n",
       "        google.colab.kernel.accessAllowed ? 'block' : 'none';\n",
       "\n",
       "      async function convertToInteractive(key) {\n",
       "        const element = document.querySelector('#df-dd2da0ff-18ae-4d61-8710-b10aa21e1c5a');\n",
       "        const dataTable =\n",
       "          await google.colab.kernel.invokeFunction('convertToInteractive',\n",
       "                                                    [key], {});\n",
       "        if (!dataTable) return;\n",
       "\n",
       "        const docLinkHtml = 'Like what you see? Visit the ' +\n",
       "          '<a target=\"_blank\" href=https://colab.research.google.com/notebooks/data_table.ipynb>data table notebook</a>'\n",
       "          + ' to learn more about interactive tables.';\n",
       "        element.innerHTML = '';\n",
       "        dataTable['output_type'] = 'display_data';\n",
       "        await google.colab.output.renderOutput(dataTable, element);\n",
       "        const docLink = document.createElement('div');\n",
       "        docLink.innerHTML = docLinkHtml;\n",
       "        element.appendChild(docLink);\n",
       "      }\n",
       "    </script>\n",
       "  </div>\n",
       "\n",
       "\n",
       "<div id=\"df-72cc1b46-0559-4f49-8149-95c6894486d6\">\n",
       "  <button class=\"colab-df-quickchart\" onclick=\"quickchart('df-72cc1b46-0559-4f49-8149-95c6894486d6')\"\n",
       "            title=\"Suggest charts.\"\n",
       "            style=\"display:none;\">\n",
       "\n",
       "<svg xmlns=\"http://www.w3.org/2000/svg\" height=\"24px\"viewBox=\"0 0 24 24\"\n",
       "     width=\"24px\">\n",
       "    <g>\n",
       "        <path d=\"M19 3H5c-1.1 0-2 .9-2 2v14c0 1.1.9 2 2 2h14c1.1 0 2-.9 2-2V5c0-1.1-.9-2-2-2zM9 17H7v-7h2v7zm4 0h-2V7h2v10zm4 0h-2v-4h2v4z\"/>\n",
       "    </g>\n",
       "</svg>\n",
       "  </button>\n",
       "\n",
       "<style>\n",
       "  .colab-df-quickchart {\n",
       "      --bg-color: #E8F0FE;\n",
       "      --fill-color: #1967D2;\n",
       "      --hover-bg-color: #E2EBFA;\n",
       "      --hover-fill-color: #174EA6;\n",
       "      --disabled-fill-color: #AAA;\n",
       "      --disabled-bg-color: #DDD;\n",
       "  }\n",
       "\n",
       "  [theme=dark] .colab-df-quickchart {\n",
       "      --bg-color: #3B4455;\n",
       "      --fill-color: #D2E3FC;\n",
       "      --hover-bg-color: #434B5C;\n",
       "      --hover-fill-color: #FFFFFF;\n",
       "      --disabled-bg-color: #3B4455;\n",
       "      --disabled-fill-color: #666;\n",
       "  }\n",
       "\n",
       "  .colab-df-quickchart {\n",
       "    background-color: var(--bg-color);\n",
       "    border: none;\n",
       "    border-radius: 50%;\n",
       "    cursor: pointer;\n",
       "    display: none;\n",
       "    fill: var(--fill-color);\n",
       "    height: 32px;\n",
       "    padding: 0;\n",
       "    width: 32px;\n",
       "  }\n",
       "\n",
       "  .colab-df-quickchart:hover {\n",
       "    background-color: var(--hover-bg-color);\n",
       "    box-shadow: 0 1px 2px rgba(60, 64, 67, 0.3), 0 1px 3px 1px rgba(60, 64, 67, 0.15);\n",
       "    fill: var(--button-hover-fill-color);\n",
       "  }\n",
       "\n",
       "  .colab-df-quickchart-complete:disabled,\n",
       "  .colab-df-quickchart-complete:disabled:hover {\n",
       "    background-color: var(--disabled-bg-color);\n",
       "    fill: var(--disabled-fill-color);\n",
       "    box-shadow: none;\n",
       "  }\n",
       "\n",
       "  .colab-df-spinner {\n",
       "    border: 2px solid var(--fill-color);\n",
       "    border-color: transparent;\n",
       "    border-bottom-color: var(--fill-color);\n",
       "    animation:\n",
       "      spin 1s steps(1) infinite;\n",
       "  }\n",
       "\n",
       "  @keyframes spin {\n",
       "    0% {\n",
       "      border-color: transparent;\n",
       "      border-bottom-color: var(--fill-color);\n",
       "      border-left-color: var(--fill-color);\n",
       "    }\n",
       "    20% {\n",
       "      border-color: transparent;\n",
       "      border-left-color: var(--fill-color);\n",
       "      border-top-color: var(--fill-color);\n",
       "    }\n",
       "    30% {\n",
       "      border-color: transparent;\n",
       "      border-left-color: var(--fill-color);\n",
       "      border-top-color: var(--fill-color);\n",
       "      border-right-color: var(--fill-color);\n",
       "    }\n",
       "    40% {\n",
       "      border-color: transparent;\n",
       "      border-right-color: var(--fill-color);\n",
       "      border-top-color: var(--fill-color);\n",
       "    }\n",
       "    60% {\n",
       "      border-color: transparent;\n",
       "      border-right-color: var(--fill-color);\n",
       "    }\n",
       "    80% {\n",
       "      border-color: transparent;\n",
       "      border-right-color: var(--fill-color);\n",
       "      border-bottom-color: var(--fill-color);\n",
       "    }\n",
       "    90% {\n",
       "      border-color: transparent;\n",
       "      border-bottom-color: var(--fill-color);\n",
       "    }\n",
       "  }\n",
       "</style>\n",
       "\n",
       "  <script>\n",
       "    async function quickchart(key) {\n",
       "      const quickchartButtonEl =\n",
       "        document.querySelector('#' + key + ' button');\n",
       "      quickchartButtonEl.disabled = true;  // To prevent multiple clicks.\n",
       "      quickchartButtonEl.classList.add('colab-df-spinner');\n",
       "      try {\n",
       "        const charts = await google.colab.kernel.invokeFunction(\n",
       "            'suggestCharts', [key], {});\n",
       "      } catch (error) {\n",
       "        console.error('Error during call to suggestCharts:', error);\n",
       "      }\n",
       "      quickchartButtonEl.classList.remove('colab-df-spinner');\n",
       "      quickchartButtonEl.classList.add('colab-df-quickchart-complete');\n",
       "    }\n",
       "    (() => {\n",
       "      let quickchartButtonEl =\n",
       "        document.querySelector('#df-72cc1b46-0559-4f49-8149-95c6894486d6 button');\n",
       "      quickchartButtonEl.style.display =\n",
       "        google.colab.kernel.accessAllowed ? 'block' : 'none';\n",
       "    })();\n",
       "  </script>\n",
       "</div>\n",
       "    </div>\n",
       "  </div>\n"
      ],
      "text/plain": [
       "          idade  conta_corrente risco\n",
       "0     21.257389      783.127911  ruim\n",
       "1     21.766573      979.747521   bom\n",
       "2     25.321033     1065.328054  ruim\n",
       "3     23.919268     1195.758078   bom\n",
       "4     21.805298     1083.764450   bom\n",
       "...         ...             ...   ...\n",
       "2495  63.840703     2847.204903  ruim\n",
       "2496  57.367341     3238.149058   bom\n",
       "2497  65.785408     2603.620751  ruim\n",
       "2498  52.944838     2985.948214  ruim\n",
       "2499  52.426936     3673.193947   bom\n",
       "\n",
       "[2500 rows x 3 columns]"
      ]
     },
     "metadata": {},
     "output_type": "display_data"
    }
   ],
   "source": [
    "df = pd.read_csv('exemplo2.csv')\n",
    "print('Informações do Dataframe:')\n",
    "df.sort_index(axis=1).info(verbose=True)\n",
    "print('\\nDataFrame:')\n",
    "display(df)"
   ]
  },
  {
   "cell_type": "markdown",
   "metadata": {
    "id": "h0Ri6-yIIHaI"
   },
   "source": [
    "# Visualização:"
   ]
  },
  {
   "cell_type": "code",
   "execution_count": 11,
   "metadata": {
    "colab": {
     "base_uri": "https://localhost:8080/"
    },
    "executionInfo": {
     "elapsed": 7,
     "status": "ok",
     "timestamp": 1698626043992,
     "user": {
      "displayName": "André Amorim",
      "userId": "04859568826717067647"
     },
     "user_tz": 180
    },
    "id": "JMPEmfZZPiYN",
    "outputId": "98fab0f7-ff7e-44cd-d85a-2fcf690f807b"
   },
   "outputs": [
    {
     "name": "stdout",
     "output_type": "stream",
     "text": [
      "Não há colunas com valores NaN\n"
     ]
    }
   ],
   "source": [
    "#Reconhecendo as variáveis que possuem dados NaN:\n",
    "def checa_null():\n",
    "  colunas_nulas = 0\n",
    "  enulo=df.isnull().sum()\n",
    "  for variavel, valor in enulo.items():\n",
    "      if valor != 0.0:\n",
    "        colunas_nulas += 1\n",
    "        print(str(variavel)+' -> '+str(valor))\n",
    "\n",
    "  if colunas_nulas == 0:\n",
    "    print('Não há colunas com valores NaN')\n",
    "checa_null()"
   ]
  },
  {
   "cell_type": "markdown",
   "metadata": {
    "id": "hyAsVEiyP-As"
   },
   "source": [
    "## Visualizações Básicas:"
   ]
  },
  {
   "cell_type": "code",
   "execution_count": 12,
   "metadata": {
    "colab": {
     "base_uri": "https://localhost:8080/",
     "height": 452
    },
    "executionInfo": {
     "elapsed": 428,
     "status": "ok",
     "timestamp": 1698626044414,
     "user": {
      "displayName": "André Amorim",
      "userId": "04859568826717067647"
     },
     "user_tz": 180
    },
    "id": "THDk2nu-RwgN",
    "outputId": "53cf7d60-9df7-45ef-ddb7-528e038847bd"
   },
   "outputs": [
    {
     "data": {
      "image/png": "[encoded data removed]",
      "text/plain": [
       "<Figure size 640x480 with 1 Axes>"
      ]
     },
     "metadata": {},
     "output_type": "display_data"
    }
   ],
   "source": [
    "df['idade'].plot(kind='hist', bins=20, title='idade')\n",
    "plt.gca().spines[['top', 'right',]].set_visible(False)"
   ]
  },
  {
   "cell_type": "code",
   "execution_count": 13,
   "metadata": {
    "colab": {
     "base_uri": "https://localhost:8080/",
     "height": 472
    },
    "executionInfo": {
     "elapsed": 594,
     "status": "ok",
     "timestamp": 1698626045005,
     "user": {
      "displayName": "André Amorim",
      "userId": "04859568826717067647"
     },
     "user_tz": 180
    },
    "id": "wEr2KFdoRZ_g",
    "outputId": "8f2eefcd-7e9a-4bb4-8a56-c06c5e2383e8"
   },
   "outputs": [
    {
     "data": {
      "image/png": "[encoded data removed]",
      "text/plain": [
       "<Figure size 640x480 with 1 Axes>"
      ]
     },
     "metadata": {},
     "output_type": "display_data"
    }
   ],
   "source": [
    "# Distribuição dos dados de Idade:\n",
    "sns.histplot(data=df, x='idade', bins=20, kde=True)\n",
    "plt.title('Distribuição de Idade com Densidade')\n",
    "plt.gca().spines[['top', 'right']].set_visible(False)\n",
    "\n",
    "plt.show()"
   ]
  },
  {
   "cell_type": "code",
   "execution_count": 14,
   "metadata": {
    "colab": {
     "base_uri": "https://localhost:8080/",
     "height": 472
    },
    "executionInfo": {
     "elapsed": 4,
     "status": "ok",
     "timestamp": 1698626045005,
     "user": {
      "displayName": "André Amorim",
      "userId": "04859568826717067647"
     },
     "user_tz": 180
    },
    "id": "9E_YV5vjSo5C",
    "outputId": "156bd3f6-aabe-4586-b1f4-ea71ddf83f76"
   },
   "outputs": [
    {
     "data": {
      "image/png": "[encoded data removed]",
      "text/plain": [
       "<Figure size 640x480 with 1 Axes>"
      ]
     },
     "metadata": {},
     "output_type": "display_data"
    }
   ],
   "source": [
    "# Distribuição dos dados de Conta Corrente:\n",
    "sns.histplot(data=df, x='conta_corrente', bins=20, kde=True, color = '#1ABC9C')\n",
    "plt.title('Distribuição de Conta Corrente com Densidade')\n",
    "plt.gca().spines[['top', 'right']].set_visible(False)\n",
    "\n",
    "plt.show()"
   ]
  },
  {
   "cell_type": "code",
   "execution_count": 15,
   "metadata": {
    "colab": {
     "base_uri": "https://localhost:8080/",
     "height": 472
    },
    "executionInfo": {
     "elapsed": 552,
     "status": "ok",
     "timestamp": 1698626045554,
     "user": {
      "displayName": "André Amorim",
      "userId": "04859568826717067647"
     },
     "user_tz": 180
    },
    "id": "X-Z6-er9RtFr",
    "outputId": "4c786c76-209b-42f8-c531-a6728e02b35b"
   },
   "outputs": [
    {
     "data": {
      "image/png": "[encoded data removed]",
      "text/plain": [
       "<Figure size 640x480 with 1 Axes>"
      ]
     },
     "metadata": {},
     "output_type": "display_data"
    }
   ],
   "source": [
    "# Supondo que 'df' é o seu DataFrame e 'risco' é a coluna que você deseja plotar\n",
    "data = df['risco'].value_counts().sort_index()\n",
    "\n",
    "# Escolha cores significativas\n",
    "colors = sns.color_palette(\"Set2\", len(data))\n",
    "\n",
    "# Plote o gráfico de barras\n",
    "ax = data.plot(kind='barh', color=colors)\n",
    "plt.title('Distribuição de Risco')\n",
    "plt.xlabel('Contagem')\n",
    "plt.ylabel('Risco')\n",
    "\n",
    "# Adicione porcentagens nas barras\n",
    "total = data.sum()\n",
    "for i, v in enumerate(data):\n",
    "    percent = 100 * v / total\n",
    "    ax.text(v, i, f'{v} ({percent:.1f}%)', va='center', fontsize=12)\n",
    "\n",
    "plt.gca().spines[['top', 'right']].set_visible(False)\n",
    "plt.show()"
   ]
  },
  {
   "cell_type": "code",
   "execution_count": 16,
   "metadata": {
    "colab": {
     "base_uri": "https://localhost:8080/",
     "height": 388
    },
    "executionInfo": {
     "elapsed": 2772,
     "status": "ok",
     "timestamp": 1698626048322,
     "user": {
      "displayName": "André Amorim",
      "userId": "04859568826717067647"
     },
     "user_tz": 180
    },
    "id": "rgndmvmZQx4b",
    "outputId": "c1046843-167b-446d-aeba-777ad0657327"
   },
   "outputs": [
    {
     "data": {
      "image/png": "[encoded data removed]",
      "text/plain": [
       "<Figure size 1200x400 with 1 Axes>"
      ]
     },
     "metadata": {},
     "output_type": "display_data"
    }
   ],
   "source": [
    "figsize = (12, 2 * len(df['risco'].unique()))\n",
    "plt.figure(figsize=figsize)\n",
    "sns.violinplot(df, x='idade', y='risco', inner='stick', palette='Dark2')\n",
    "sns.despine(top=True, right=True, bottom=True, left=True)"
   ]
  },
  {
   "cell_type": "code",
   "execution_count": 17,
   "metadata": {
    "colab": {
     "base_uri": "https://localhost:8080/",
     "height": 639
    },
    "executionInfo": {
     "elapsed": 899,
     "status": "ok",
     "timestamp": 1698626049217,
     "user": {
      "displayName": "André Amorim",
      "userId": "04859568826717067647"
     },
     "user_tz": 180
    },
    "id": "9utwtulDQ3ML",
    "outputId": "59755750-cc30-4b47-bdc1-5fae362c34df"
   },
   "outputs": [
    {
     "data": {
      "image/png": "[encoded data removed]",
      "text/plain": [
       "<Figure size 1500x800 with 1 Axes>"
      ]
     },
     "metadata": {},
     "output_type": "display_data"
    }
   ],
   "source": [
    "# Definindo tamanho da visualização:\n",
    "plt.figure(figsize=(15, 8))\n",
    "\n",
    "# Definindo gráfico:\n",
    "plt.scatter(df[df.risco == 'ruim'].idade, df[df.risco == 'ruim'].conta_corrente)\n",
    "plt.scatter(df[df.risco == 'bom'].idade, df[df.risco == 'bom'].conta_corrente)\n",
    "\n",
    "# Ajustando informações:\n",
    "plt.xlabel('Idade')\n",
    "plt.ylabel('CPF')\n",
    "plt.legend(['ruim', 'bom'])\n",
    "plt.show()"
   ]
  },
  {
   "cell_type": "markdown",
   "metadata": {
    "id": "8MQ_nbMZQ6Q9"
   },
   "source": [
    "# Classificação:"
   ]
  },
  {
   "cell_type": "markdown",
   "metadata": {
    "id": "4NwREuygIUWr"
   },
   "source": [
    "## Classificação crua:"
   ]
  },
  {
   "cell_type": "code",
   "execution_count": 18,
   "metadata": {
    "colab": {
     "base_uri": "https://localhost:8080/",
     "height": 649
    },
    "executionInfo": {
     "elapsed": 21,
     "status": "ok",
     "timestamp": 1698626049217,
     "user": {
      "displayName": "André Amorim",
      "userId": "04859568826717067647"
     },
     "user_tz": 180
    },
    "id": "uS6JHzQyUSRk",
    "outputId": "d6c6156a-ff59-4c5b-faa3-11f84b9b54f7"
   },
   "outputs": [
    {
     "data": {
      "text/html": [
       "\n",
       "  <div id=\"df-271f2278-3e10-4fe0-a3a6-7c5c546ceecf\" class=\"colab-df-container\">\n",
       "    <div>\n",
       "<style scoped>\n",
       "    .dataframe tbody tr th:only-of-type {\n",
       "        vertical-align: middle;\n",
       "    }\n",
       "\n",
       "    .dataframe tbody tr th {\n",
       "        vertical-align: top;\n",
       "    }\n",
       "\n",
       "    .dataframe thead th {\n",
       "        text-align: right;\n",
       "    }\n",
       "</style>\n",
       "<table border=\"1\" class=\"dataframe\">\n",
       "  <thead>\n",
       "    <tr style=\"text-align: right;\">\n",
       "      <th></th>\n",
       "      <th>idade</th>\n",
       "      <th>conta_corrente</th>\n",
       "    </tr>\n",
       "  </thead>\n",
       "  <tbody>\n",
       "    <tr>\n",
       "      <th>0</th>\n",
       "      <td>21.257389</td>\n",
       "      <td>783.127911</td>\n",
       "    </tr>\n",
       "    <tr>\n",
       "      <th>1</th>\n",
       "      <td>21.766573</td>\n",
       "      <td>979.747521</td>\n",
       "    </tr>\n",
       "    <tr>\n",
       "      <th>2</th>\n",
       "      <td>25.321033</td>\n",
       "      <td>1065.328054</td>\n",
       "    </tr>\n",
       "    <tr>\n",
       "      <th>3</th>\n",
       "      <td>23.919268</td>\n",
       "      <td>1195.758078</td>\n",
       "    </tr>\n",
       "    <tr>\n",
       "      <th>4</th>\n",
       "      <td>21.805298</td>\n",
       "      <td>1083.764450</td>\n",
       "    </tr>\n",
       "    <tr>\n",
       "      <th>...</th>\n",
       "      <td>...</td>\n",
       "      <td>...</td>\n",
       "    </tr>\n",
       "    <tr>\n",
       "      <th>2495</th>\n",
       "      <td>63.840703</td>\n",
       "      <td>2847.204903</td>\n",
       "    </tr>\n",
       "    <tr>\n",
       "      <th>2496</th>\n",
       "      <td>57.367341</td>\n",
       "      <td>3238.149058</td>\n",
       "    </tr>\n",
       "    <tr>\n",
       "      <th>2497</th>\n",
       "      <td>65.785408</td>\n",
       "      <td>2603.620751</td>\n",
       "    </tr>\n",
       "    <tr>\n",
       "      <th>2498</th>\n",
       "      <td>52.944838</td>\n",
       "      <td>2985.948214</td>\n",
       "    </tr>\n",
       "    <tr>\n",
       "      <th>2499</th>\n",
       "      <td>52.426936</td>\n",
       "      <td>3673.193947</td>\n",
       "    </tr>\n",
       "  </tbody>\n",
       "</table>\n",
       "<p>2500 rows × 2 columns</p>\n",
       "</div>\n",
       "    <div class=\"colab-df-buttons\">\n",
       "\n",
       "  <div class=\"colab-df-container\">\n",
       "    <button class=\"colab-df-convert\" onclick=\"convertToInteractive('df-271f2278-3e10-4fe0-a3a6-7c5c546ceecf')\"\n",
       "            title=\"Convert this dataframe to an interactive table.\"\n",
       "            style=\"display:none;\">\n",
       "\n",
       "  <svg xmlns=\"http://www.w3.org/2000/svg\" height=\"24px\" viewBox=\"0 -960 960 960\">\n",
       "    <path d=\"M120-120v-720h720v720H120Zm60-500h600v-160H180v160Zm220 220h160v-160H400v160Zm0 220h160v-160H400v160ZM180-400h160v-160H180v160Zm440 0h160v-160H620v160ZM180-180h160v-160H180v160Zm440 0h160v-160H620v160Z\"/>\n",
       "  </svg>\n",
       "    </button>\n",
       "\n",
       "  <style>\n",
       "    .colab-df-container {\n",
       "      display:flex;\n",
       "      gap: 12px;\n",
       "    }\n",
       "\n",
       "    .colab-df-convert {\n",
       "      background-color: #E8F0FE;\n",
       "      border: none;\n",
       "      border-radius: 50%;\n",
       "      cursor: pointer;\n",
       "      display: none;\n",
       "      fill: #1967D2;\n",
       "      height: 32px;\n",
       "      padding: 0 0 0 0;\n",
       "      width: 32px;\n",
       "    }\n",
       "\n",
       "    .colab-df-convert:hover {\n",
       "      background-color: #E2EBFA;\n",
       "      box-shadow: 0px 1px 2px rgba(60, 64, 67, 0.3), 0px 1px 3px 1px rgba(60, 64, 67, 0.15);\n",
       "      fill: #174EA6;\n",
       "    }\n",
       "\n",
       "    .colab-df-buttons div {\n",
       "      margin-bottom: 4px;\n",
       "    }\n",
       "\n",
       "    [theme=dark] .colab-df-convert {\n",
       "      background-color: #3B4455;\n",
       "      fill: #D2E3FC;\n",
       "    }\n",
       "\n",
       "    [theme=dark] .colab-df-convert:hover {\n",
       "      background-color: #434B5C;\n",
       "      box-shadow: 0px 1px 3px 1px rgba(0, 0, 0, 0.15);\n",
       "      filter: drop-shadow(0px 1px 2px rgba(0, 0, 0, 0.3));\n",
       "      fill: #FFFFFF;\n",
       "    }\n",
       "  </style>\n",
       "\n",
       "    <script>\n",
       "      const buttonEl =\n",
       "        document.querySelector('#df-271f2278-3e10-4fe0-a3a6-7c5c546ceecf button.colab-df-convert');\n",
       "      buttonEl.style.display =\n",
       "        google.colab.kernel.accessAllowed ? 'block' : 'none';\n",
       "\n",
       "      async function convertToInteractive(key) {\n",
       "        const element = document.querySelector('#df-271f2278-3e10-4fe0-a3a6-7c5c546ceecf');\n",
       "        const dataTable =\n",
       "          await google.colab.kernel.invokeFunction('convertToInteractive',\n",
       "                                                    [key], {});\n",
       "        if (!dataTable) return;\n",
       "\n",
       "        const docLinkHtml = 'Like what you see? Visit the ' +\n",
       "          '<a target=\"_blank\" href=https://colab.research.google.com/notebooks/data_table.ipynb>data table notebook</a>'\n",
       "          + ' to learn more about interactive tables.';\n",
       "        element.innerHTML = '';\n",
       "        dataTable['output_type'] = 'display_data';\n",
       "        await google.colab.output.renderOutput(dataTable, element);\n",
       "        const docLink = document.createElement('div');\n",
       "        docLink.innerHTML = docLinkHtml;\n",
       "        element.appendChild(docLink);\n",
       "      }\n",
       "    </script>\n",
       "  </div>\n",
       "\n",
       "\n",
       "<div id=\"df-96197458-15fc-404b-882a-97bfe3f72882\">\n",
       "  <button class=\"colab-df-quickchart\" onclick=\"quickchart('df-96197458-15fc-404b-882a-97bfe3f72882')\"\n",
       "            title=\"Suggest charts.\"\n",
       "            style=\"display:none;\">\n",
       "\n",
       "<svg xmlns=\"http://www.w3.org/2000/svg\" height=\"24px\"viewBox=\"0 0 24 24\"\n",
       "     width=\"24px\">\n",
       "    <g>\n",
       "        <path d=\"M19 3H5c-1.1 0-2 .9-2 2v14c0 1.1.9 2 2 2h14c1.1 0 2-.9 2-2V5c0-1.1-.9-2-2-2zM9 17H7v-7h2v7zm4 0h-2V7h2v10zm4 0h-2v-4h2v4z\"/>\n",
       "    </g>\n",
       "</svg>\n",
       "  </button>\n",
       "\n",
       "<style>\n",
       "  .colab-df-quickchart {\n",
       "      --bg-color: #E8F0FE;\n",
       "      --fill-color: #1967D2;\n",
       "      --hover-bg-color: #E2EBFA;\n",
       "      --hover-fill-color: #174EA6;\n",
       "      --disabled-fill-color: #AAA;\n",
       "      --disabled-bg-color: #DDD;\n",
       "  }\n",
       "\n",
       "  [theme=dark] .colab-df-quickchart {\n",
       "      --bg-color: #3B4455;\n",
       "      --fill-color: #D2E3FC;\n",
       "      --hover-bg-color: #434B5C;\n",
       "      --hover-fill-color: #FFFFFF;\n",
       "      --disabled-bg-color: #3B4455;\n",
       "      --disabled-fill-color: #666;\n",
       "  }\n",
       "\n",
       "  .colab-df-quickchart {\n",
       "    background-color: var(--bg-color);\n",
       "    border: none;\n",
       "    border-radius: 50%;\n",
       "    cursor: pointer;\n",
       "    display: none;\n",
       "    fill: var(--fill-color);\n",
       "    height: 32px;\n",
       "    padding: 0;\n",
       "    width: 32px;\n",
       "  }\n",
       "\n",
       "  .colab-df-quickchart:hover {\n",
       "    background-color: var(--hover-bg-color);\n",
       "    box-shadow: 0 1px 2px rgba(60, 64, 67, 0.3), 0 1px 3px 1px rgba(60, 64, 67, 0.15);\n",
       "    fill: var(--button-hover-fill-color);\n",
       "  }\n",
       "\n",
       "  .colab-df-quickchart-complete:disabled,\n",
       "  .colab-df-quickchart-complete:disabled:hover {\n",
       "    background-color: var(--disabled-bg-color);\n",
       "    fill: var(--disabled-fill-color);\n",
       "    box-shadow: none;\n",
       "  }\n",
       "\n",
       "  .colab-df-spinner {\n",
       "    border: 2px solid var(--fill-color);\n",
       "    border-color: transparent;\n",
       "    border-bottom-color: var(--fill-color);\n",
       "    animation:\n",
       "      spin 1s steps(1) infinite;\n",
       "  }\n",
       "\n",
       "  @keyframes spin {\n",
       "    0% {\n",
       "      border-color: transparent;\n",
       "      border-bottom-color: var(--fill-color);\n",
       "      border-left-color: var(--fill-color);\n",
       "    }\n",
       "    20% {\n",
       "      border-color: transparent;\n",
       "      border-left-color: var(--fill-color);\n",
       "      border-top-color: var(--fill-color);\n",
       "    }\n",
       "    30% {\n",
       "      border-color: transparent;\n",
       "      border-left-color: var(--fill-color);\n",
       "      border-top-color: var(--fill-color);\n",
       "      border-right-color: var(--fill-color);\n",
       "    }\n",
       "    40% {\n",
       "      border-color: transparent;\n",
       "      border-right-color: var(--fill-color);\n",
       "      border-top-color: var(--fill-color);\n",
       "    }\n",
       "    60% {\n",
       "      border-color: transparent;\n",
       "      border-right-color: var(--fill-color);\n",
       "    }\n",
       "    80% {\n",
       "      border-color: transparent;\n",
       "      border-right-color: var(--fill-color);\n",
       "      border-bottom-color: var(--fill-color);\n",
       "    }\n",
       "    90% {\n",
       "      border-color: transparent;\n",
       "      border-bottom-color: var(--fill-color);\n",
       "    }\n",
       "  }\n",
       "</style>\n",
       "\n",
       "  <script>\n",
       "    async function quickchart(key) {\n",
       "      const quickchartButtonEl =\n",
       "        document.querySelector('#' + key + ' button');\n",
       "      quickchartButtonEl.disabled = true;  // To prevent multiple clicks.\n",
       "      quickchartButtonEl.classList.add('colab-df-spinner');\n",
       "      try {\n",
       "        const charts = await google.colab.kernel.invokeFunction(\n",
       "            'suggestCharts', [key], {});\n",
       "      } catch (error) {\n",
       "        console.error('Error during call to suggestCharts:', error);\n",
       "      }\n",
       "      quickchartButtonEl.classList.remove('colab-df-spinner');\n",
       "      quickchartButtonEl.classList.add('colab-df-quickchart-complete');\n",
       "    }\n",
       "    (() => {\n",
       "      let quickchartButtonEl =\n",
       "        document.querySelector('#df-96197458-15fc-404b-882a-97bfe3f72882 button');\n",
       "      quickchartButtonEl.style.display =\n",
       "        google.colab.kernel.accessAllowed ? 'block' : 'none';\n",
       "    })();\n",
       "  </script>\n",
       "</div>\n",
       "    </div>\n",
       "  </div>\n"
      ],
      "text/plain": [
       "          idade  conta_corrente\n",
       "0     21.257389      783.127911\n",
       "1     21.766573      979.747521\n",
       "2     25.321033     1065.328054\n",
       "3     23.919268     1195.758078\n",
       "4     21.805298     1083.764450\n",
       "...         ...             ...\n",
       "2495  63.840703     2847.204903\n",
       "2496  57.367341     3238.149058\n",
       "2497  65.785408     2603.620751\n",
       "2498  52.944838     2985.948214\n",
       "2499  52.426936     3673.193947\n",
       "\n",
       "[2500 rows x 2 columns]"
      ]
     },
     "metadata": {},
     "output_type": "display_data"
    },
    {
     "name": "stdout",
     "output_type": "stream",
     "text": [
      "\n"
     ]
    },
    {
     "data": {
      "text/plain": [
       "0       ruim\n",
       "1        bom\n",
       "2       ruim\n",
       "3        bom\n",
       "4        bom\n",
       "        ... \n",
       "2495    ruim\n",
       "2496     bom\n",
       "2497    ruim\n",
       "2498    ruim\n",
       "2499     bom\n",
       "Name: risco, Length: 2500, dtype: object"
      ]
     },
     "metadata": {},
     "output_type": "display_data"
    }
   ],
   "source": [
    "# Separando as informações de Input(X) e Output(y)\n",
    "X = df.drop('risco',axis=1)\n",
    "y = df.risco\n",
    "\n",
    "#Checando a informação:\n",
    "display(X)\n",
    "print()\n",
    "display(y)"
   ]
  },
  {
   "cell_type": "code",
   "execution_count": 19,
   "metadata": {
    "colab": {
     "base_uri": "https://localhost:8080/",
     "height": 75
    },
    "executionInfo": {
     "elapsed": 18,
     "status": "ok",
     "timestamp": 1698626049217,
     "user": {
      "displayName": "André Amorim",
      "userId": "04859568826717067647"
     },
     "user_tz": 180
    },
    "id": "k6fK6sifU6tL",
    "outputId": "9e11a1d7-95f6-4fb3-9e23-9c5e9f208b51"
   },
   "outputs": [
    {
     "data": {
      "text/html": [
       "<style>#sk-container-id-1 {color: black;background-color: white;}#sk-container-id-1 pre{padding: 0;}#sk-container-id-1 div.sk-toggleable {background-color: white;}#sk-container-id-1 label.sk-toggleable__label {cursor: pointer;display: block;width: 100%;margin-bottom: 0;padding: 0.3em;box-sizing: border-box;text-align: center;}#sk-container-id-1 label.sk-toggleable__label-arrow:before {content: \"▸\";float: left;margin-right: 0.25em;color: #696969;}#sk-container-id-1 label.sk-toggleable__label-arrow:hover:before {color: black;}#sk-container-id-1 div.sk-estimator:hover label.sk-toggleable__label-arrow:before {color: black;}#sk-container-id-1 div.sk-toggleable__content {max-height: 0;max-width: 0;overflow: hidden;text-align: left;background-color: #f0f8ff;}#sk-container-id-1 div.sk-toggleable__content pre {margin: 0.2em;color: black;border-radius: 0.25em;background-color: #f0f8ff;}#sk-container-id-1 input.sk-toggleable__control:checked~div.sk-toggleable__content {max-height: 200px;max-width: 100%;overflow: auto;}#sk-container-id-1 input.sk-toggleable__control:checked~label.sk-toggleable__label-arrow:before {content: \"▾\";}#sk-container-id-1 div.sk-estimator input.sk-toggleable__control:checked~label.sk-toggleable__label {background-color: #d4ebff;}#sk-container-id-1 div.sk-label input.sk-toggleable__control:checked~label.sk-toggleable__label {background-color: #d4ebff;}#sk-container-id-1 input.sk-hidden--visually {border: 0;clip: rect(1px 1px 1px 1px);clip: rect(1px, 1px, 1px, 1px);height: 1px;margin: -1px;overflow: hidden;padding: 0;position: absolute;width: 1px;}#sk-container-id-1 div.sk-estimator {font-family: monospace;background-color: #f0f8ff;border: 1px dotted black;border-radius: 0.25em;box-sizing: border-box;margin-bottom: 0.5em;}#sk-container-id-1 div.sk-estimator:hover {background-color: #d4ebff;}#sk-container-id-1 div.sk-parallel-item::after {content: \"\";width: 100%;border-bottom: 1px solid gray;flex-grow: 1;}#sk-container-id-1 div.sk-label:hover label.sk-toggleable__label {background-color: #d4ebff;}#sk-container-id-1 div.sk-serial::before {content: \"\";position: absolute;border-left: 1px solid gray;box-sizing: border-box;top: 0;bottom: 0;left: 50%;z-index: 0;}#sk-container-id-1 div.sk-serial {display: flex;flex-direction: column;align-items: center;background-color: white;padding-right: 0.2em;padding-left: 0.2em;position: relative;}#sk-container-id-1 div.sk-item {position: relative;z-index: 1;}#sk-container-id-1 div.sk-parallel {display: flex;align-items: stretch;justify-content: center;background-color: white;position: relative;}#sk-container-id-1 div.sk-item::before, #sk-container-id-1 div.sk-parallel-item::before {content: \"\";position: absolute;border-left: 1px solid gray;box-sizing: border-box;top: 0;bottom: 0;left: 50%;z-index: -1;}#sk-container-id-1 div.sk-parallel-item {display: flex;flex-direction: column;z-index: 1;position: relative;background-color: white;}#sk-container-id-1 div.sk-parallel-item:first-child::after {align-self: flex-end;width: 50%;}#sk-container-id-1 div.sk-parallel-item:last-child::after {align-self: flex-start;width: 50%;}#sk-container-id-1 div.sk-parallel-item:only-child::after {width: 0;}#sk-container-id-1 div.sk-dashed-wrapped {border: 1px dashed gray;margin: 0 0.4em 0.5em 0.4em;box-sizing: border-box;padding-bottom: 0.4em;background-color: white;}#sk-container-id-1 div.sk-label label {font-family: monospace;font-weight: bold;display: inline-block;line-height: 1.2em;}#sk-container-id-1 div.sk-label-container {text-align: center;}#sk-container-id-1 div.sk-container {/* jupyter's `normalize.less` sets `[hidden] { display: none; }` but bootstrap.min.css set `[hidden] { display: none !important; }` so we also need the `!important` here to be able to override the default hidden behavior on the sphinx rendered scikit-learn.org. See: https://github.com/scikit-learn/scikit-learn/issues/21755 */display: inline-block !important;position: relative;}#sk-container-id-1 div.sk-text-repr-fallback {display: none;}</style><div id=\"sk-container-id-1\" class=\"sk-top-container\"><div class=\"sk-text-repr-fallback\"><pre>KNeighborsClassifier(n_neighbors=3)</pre><b>In a Jupyter environment, please rerun this cell to show the HTML representation or trust the notebook. <br />On GitHub, the HTML representation is unable to render, please try loading this page with nbviewer.org.</b></div><div class=\"sk-container\" hidden><div class=\"sk-item\"><div class=\"sk-estimator sk-toggleable\"><input class=\"sk-toggleable__control sk-hidden--visually\" id=\"sk-estimator-id-1\" type=\"checkbox\" checked><label for=\"sk-estimator-id-1\" class=\"sk-toggleable__label sk-toggleable__label-arrow\">KNeighborsClassifier</label><div class=\"sk-toggleable__content\"><pre>KNeighborsClassifier(n_neighbors=3)</pre></div></div></div></div></div>"
      ],
      "text/plain": [
       "KNeighborsClassifier(n_neighbors=3)"
      ]
     },
     "execution_count": 19,
     "metadata": {},
     "output_type": "execute_result"
    }
   ],
   "source": [
    "# Treinamento:\n",
    "knn = KNeighborsClassifier(n_neighbors=3)\n",
    "knn.fit(X,y)"
   ]
  },
  {
   "cell_type": "code",
   "execution_count": 20,
   "metadata": {
    "executionInfo": {
     "elapsed": 16,
     "status": "ok",
     "timestamp": 1698626049217,
     "user": {
      "displayName": "André Amorim",
      "userId": "04859568826717067647"
     },
     "user_tz": 180
    },
    "id": "QAHag5w9VhnF"
   },
   "outputs": [],
   "source": [
    "# Treinamento/teste:\n",
    "X_train, X_test, y_train, y_test = train_test_split(X,y,train_size=2/3)"
   ]
  },
  {
   "cell_type": "code",
   "execution_count": 21,
   "metadata": {
    "colab": {
     "base_uri": "https://localhost:8080/"
    },
    "executionInfo": {
     "elapsed": 16,
     "status": "ok",
     "timestamp": 1698626049217,
     "user": {
      "displayName": "André Amorim",
      "userId": "04859568826717067647"
     },
     "user_tz": 180
    },
    "id": "bgbSz-Lre09g",
    "outputId": "1cd1839c-5273-4805-c47c-c222005cf00d"
   },
   "outputs": [
    {
     "name": "stdout",
     "output_type": "stream",
     "text": [
      "(1666, 2)\n",
      "(834,)\n"
     ]
    }
   ],
   "source": [
    "print(X_train.shape)\n",
    "print(y_test.shape)"
   ]
  },
  {
   "cell_type": "code",
   "execution_count": 33,
   "metadata": {
    "colab": {
     "base_uri": "https://localhost:8080/"
    },
    "executionInfo": {
     "elapsed": 6,
     "status": "ok",
     "timestamp": 1698626811376,
     "user": {
      "displayName": "André Amorim",
      "userId": "04859568826717067647"
     },
     "user_tz": 180
    },
    "id": "QxXoDwFJfCwo",
    "outputId": "8efc53fa-b3af-405a-ba71-f5cd191ace36"
   },
   "outputs": [
    {
     "data": {
      "text/plain": [
       "0.81"
      ]
     },
     "execution_count": 33,
     "metadata": {},
     "output_type": "execute_result"
    }
   ],
   "source": [
    "# Classificação:\n",
    "knn2 = KNeighborsClassifier(n_neighbors=3)\n",
    "knn2.fit(X_train,y_train)\n",
    "\n",
    "# Medindo precisão:\n",
    "metrica = round(accuracy_score(y_test,knn2.predict(X_test)),2)\n",
    "metrica"
   ]
  },
  {
   "cell_type": "markdown",
   "metadata": {
    "id": "MQN-ahJGfUZ3"
   },
   "source": [
    "## Melhorando a qualidade da classificação:\n",
    "\n",
    "Em se tratando de classificadores, um método útil para melhorar as métricas,\n",
    "que por vezes podem não vir tão boa, é o pré processamento dos inputs. Uma\n",
    "das técnicas de pré processamento é a normalização dos dados.\n",
    "\n",
    "O MinMaxScaler não reduz o efeito de valores atípicos, mas os dimensiona\n",
    "linearmente para um intervalo fixo (0,1), onde o valor de dados mais alto\n",
    "corresponde ao valor máximo e o valor mais baixo corresponde ao valor mínimo.\n",
    "Para uma visualização de exemplo, consulte a comparação do MinMaxScaler com\n",
    "outros escaladores.\n",
    "\n"
   ]
  },
  {
   "cell_type": "code",
   "execution_count": 32,
   "metadata": {
    "executionInfo": {
     "elapsed": 1,
     "status": "ok",
     "timestamp": 1698626567548,
     "user": {
      "displayName": "André Amorim",
      "userId": "04859568826717067647"
     },
     "user_tz": 180
    },
    "id": "Sw68egt5CHZA"
   },
   "outputs": [],
   "source": [
    "# Criando o normalizador:\n",
    "normalizador = MinMaxScaler()"
   ]
  },
  {
   "cell_type": "markdown",
   "metadata": {
    "id": "sPWEEkvCAqp1"
   },
   "source": [
    "\n",
    "Funções vs Métodos:\n",
    "```\n",
    "Classes precisam ser \"armazenadas\" em variáveis. O que costuma\n",
    "ser dito, é que ponteiros (pointers) não são coisas apenas de C,\n",
    "porém, no python, a própria variável é o ponteiro. Deste modo,\n",
    "estamos alocando a classe na memória.\n",
    "\n",
    "Por isso, classes precisam ser guardadas em variáveis, mais funções\n",
    "não. Note que quando importamos funções. Pode-se utiliza-las sem\n",
    "nenhum problema. Já para as classes, eu tive que \"armazena-la\"\n",
    "numa variável.\n",
    "```\n",
    "\n"
   ]
  },
  {
   "cell_type": "code",
   "execution_count": 30,
   "metadata": {
    "colab": {
     "base_uri": "https://localhost:8080/"
    },
    "executionInfo": {
     "elapsed": 2,
     "status": "ok",
     "timestamp": 1698626506515,
     "user": {
      "displayName": "André Amorim",
      "userId": "04859568826717067647"
     },
     "user_tz": 180
    },
    "id": "f8gFBYKE9xrM",
    "outputId": "11ec929d-b540-4962-9504-4a1483b3b1ea"
   },
   "outputs": [
    {
     "data": {
      "text/plain": [
       "array([[0.05586473, 0.06720224],\n",
       "       [0.06499436, 0.09938945],\n",
       "       [0.12872564, 0.11339923],\n",
       "       ...,\n",
       "       [0.85424954, 0.36522222],\n",
       "       [0.62401886, 0.42781034],\n",
       "       [0.61473291, 0.54031447]])"
      ]
     },
     "execution_count": 30,
     "metadata": {},
     "output_type": "execute_result"
    }
   ],
   "source": [
    "X_norm = normalizador.fit_transform(X)\n",
    "X_norm"
   ]
  },
  {
   "cell_type": "code",
   "execution_count": 31,
   "metadata": {
    "colab": {
     "base_uri": "https://localhost:8080/"
    },
    "executionInfo": {
     "elapsed": 251,
     "status": "ok",
     "timestamp": 1698626550042,
     "user": {
      "displayName": "André Amorim",
      "userId": "04859568826717067647"
     },
     "user_tz": 180
    },
    "id": "3y5Ga3YVB5gB",
    "outputId": "a1a4ab05-97d0-4bd0-836c-c2de29d85fd6"
   },
   "outputs": [
    {
     "name": "stdout",
     "output_type": "stream",
     "text": [
      "<class 'pandas.core.frame.DataFrame'>\n",
      "<class 'numpy.ndarray'>\n"
     ]
    }
   ],
   "source": [
    "print(type(X))\n",
    "print(type(X_norm))"
   ]
  },
  {
   "cell_type": "markdown",
   "metadata": {
    "id": "JrfmfKiR_SQ_"
   },
   "source": [
    "Mudança de Tipo:\n",
    "\n",
    "\n",
    "```\n",
    "Note que o tipo do dado mudou. Depois da transformação\n",
    "as matrizes vieram como um array numpy. Note como se faz\n",
    "importante aqui ter um bom entendimento da linaguagem\n",
    "matemática e de bibliotecas criadas para matemática\n",
    "computacional.\n",
    "\n",
    "Quanto mais se deseja manipular as informações, quanto\n",
    "mais de aprofunda o conhecimento nessa área de ML\n",
    "(Machine Learning), mais se faz necessário saber esse tipo\n",
    "de conhecimento.\n",
    "```\n",
    "\n"
   ]
  },
  {
   "cell_type": "code",
   "execution_count": 34,
   "metadata": {
    "executionInfo": {
     "elapsed": 378,
     "status": "ok",
     "timestamp": 1698626843335,
     "user": {
      "displayName": "André Amorim",
      "userId": "04859568826717067647"
     },
     "user_tz": 180
    },
    "id": "PPtFA7N5CwLM"
   },
   "outputs": [],
   "source": [
    "# Recontruindo o teste com o X normalizado:\n",
    "X_train, X_test, y_train, y_test = train_test_split(X_norm,y,train_size=2/3)"
   ]
  },
  {
   "cell_type": "code",
   "execution_count": 35,
   "metadata": {
    "colab": {
     "base_uri": "https://localhost:8080/"
    },
    "executionInfo": {
     "elapsed": 9,
     "status": "ok",
     "timestamp": 1698626907018,
     "user": {
      "displayName": "André Amorim",
      "userId": "04859568826717067647"
     },
     "user_tz": 180
    },
    "id": "7YByznveDK7L",
    "outputId": "de26b02f-2525-442c-cafc-d2d550e25c2c"
   },
   "outputs": [
    {
     "data": {
      "text/plain": [
       "0.85"
      ]
     },
     "execution_count": 35,
     "metadata": {},
     "output_type": "execute_result"
    }
   ],
   "source": [
    "# Classificação:\n",
    "knn3 = KNeighborsClassifier(n_neighbors=3)\n",
    "knn3.fit(X_train,y_train)\n",
    "\n",
    "# Medindo precisão:\n",
    "metrica_normalizada = round(accuracy_score(y_test,knn3.predict(X_test)),2)\n",
    "metrica_normalizada"
   ]
  },
  {
   "cell_type": "code",
   "execution_count": 41,
   "metadata": {
    "colab": {
     "base_uri": "https://localhost:8080/"
    },
    "executionInfo": {
     "elapsed": 242,
     "status": "ok",
     "timestamp": 1698628048620,
     "user": {
      "displayName": "André Amorim",
      "userId": "04859568826717067647"
     },
     "user_tz": 180
    },
    "id": "XBK6RAPDDai8",
    "outputId": "b10c1c93-2e80-4a36-e097-369873efe5d7"
   },
   "outputs": [
    {
     "name": "stdout",
     "output_type": "stream",
     "text": [
      "Métrica inicial = 0.81 e métrica normalizada = 0.85`.\n",
      "Aumento efetivo = 0.0004\n"
     ]
    }
   ],
   "source": [
    "m= round((metrica_normalizada - metrica)/100,4)\n",
    "\n",
    "print(f'Métrica inicial = {metrica} e métrica normalizada = {metrica_normalizada}`.')\n",
    "print(f'Aumento efetivo = {m}')"
   ]
  },
  {
   "cell_type": "markdown",
   "metadata": {
    "id": "EpQMt8U1HlTw"
   },
   "source": [
    "\n",
    "\n",
    "```\n",
    "Note que para esse tipo de caso não foi uma diferença\n",
    "significativa. De todo modo, a técnica está apresentada.\n",
    "```\n",
    "\n"
   ]
  }
 ],
 "metadata": {
  "colab": {
   "authorship_tag": "ABX9TyOru/wnLymM5vZywbn/CGgh",
   "collapsed_sections": [
    "Wqsoq8YaIC92"
   ],
   "provenance": []
  },
  "kernelspec": {
   "display_name": "Python 3",
   "name": "python3"
  },
  "language_info": {
   "name": "python"
  }
 },
 "nbformat": 4,
 "nbformat_minor": 0
}
