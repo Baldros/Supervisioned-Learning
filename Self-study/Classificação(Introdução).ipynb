{
 "cells": [
  {
   "cell_type": "markdown",
   "id": "687b90a4-49b4-425b-ac02-c3d9cff72ab4",
   "metadata": {},
   "source": [
    "# Apresentação:\n",
    "\n",
    "O objetivo desse código é explorar um pouco sobre sistemas de classificação. Não terá abordagem a alguma classe de modelo em específico aqui, mas apenas o funcionamento geral e elementos de metrificação da classificação.\n",
    "\n",
    "## Classificação:\n",
    "Classificação são problemas de predição, na classe de problemas de aprendizado supervisionado, cujo os quais o espaço de saídas é um conjunt $C$ de **classes** não ordenadas e mutualmente excludentes tal que $\\mathcal{y} = {1,2,...,C}$. Basicamente podemos resumir a classificação como um **problema de predição no domínio discreto**. Apesar de uma mudança sutil, isso gera mudanças fundamentais na estruturação dos modelos.\n",
    "\n",
    "## Material Base:\n",
    "\n",
    "O material utilizado aqui será o livro **Hands On Machine Learning with Scikit-Learn, Keras & TensorFlow** de *Aurélien Géron*, para a estruturação prática do código, com a suplementação do **Probabilistic Machine Learning: An Introduction** de *Kevin Murphy* e **The Elements of Statistical Learning** de *Trevor Hastie*, *Robert Tibshirani* e *Jerome Friedman* para aprofundamento teórico.\n",
    "\n",
    "\n",
    "## Documentações:\n",
    "\n",
    "Também contamos com a documentação das bibliotecas utilizadas para apoio no entendimento do código.\n",
    "\n",
    "* https://scikit-learn.org/stable/\n",
    "* https://matplotlib.org/\n",
    "* https://seaborn.pydata.org/"
   ]
  },
  {
   "cell_type": "code",
   "execution_count": 1,
   "id": "63148194-3da3-42fd-8388-059520e9fb4e",
   "metadata": {},
   "outputs": [],
   "source": [
    "# Bibliotecas para visualização:\n",
    "import seaborn as sns\n",
    "import  matplotlib as mpl\n",
    "from matplotlib import pyplot as plt\n",
    "\n",
    "# Bibliotecas suporte:\n",
    "import numpy as np\n",
    "from time import time\n",
    "from tqdm import tqdm"
   ]
  },
  {
   "cell_type": "markdown",
   "id": "3938d9f7-c124-49ba-8aea-dae243c744cd",
   "metadata": {},
   "source": [
    "# Conhecendo os dados:\n",
    "\n",
    "Para treinamento do modelo, será utilizado o clássico [**MNIST**](https://yann.lecun.com/exdb/mnist/) ao qual é um grande banco de dados de **dígitos manuscritos**, comumente usado para treinar vários sistemas de processamento de imagens.\n",
    "\n",
    "## MNIST:\n",
    "\n",
    "O conjunto de imagens no banco de dados [MNIST](https://pt.wikipedia.org/wiki/Banco_de_dados_MNIST) foi criado em 1994 como uma combinação de dois bancos de dados do **NIST**: Banco de dados especial 1 e banco de dados especial 3, que consistem em dígitos escritos por estudantes do ensino médio e funcionários do Departamento do Censo dos Estados Unidos, respectivamente.\n",
    "\n",
    "O conjunto de dados original era um conjunto de imagens binárias de 128x128, processadas em imagens em escala de cinza de 28x28. Originalmente, havia 60 mil amostras no conjunto de treinamento e no conjunto de teste, mas 50 mil do conjunto de teste foram descartadas. [Consulte Cold Case: The Lost MNIST Digits](https://arxiv.org/pdf/1905.10498) para um histórico detalhado e uma reconstrução do conjunto de teste descartado.rtado."
   ]
  },
  {
   "cell_type": "code",
   "execution_count": 2,
   "id": "44b729d6-f1db-4016-879f-8c0376200915",
   "metadata": {},
   "outputs": [],
   "source": [
    "# Importando Conjunto de Dados:\n",
    "from sklearn.datasets import fetch_openml"
   ]
  },
  {
   "cell_type": "code",
   "execution_count": 3,
   "id": "e29394d6-b39c-448f-b325-56312c053d63",
   "metadata": {},
   "outputs": [
    {
     "data": {
      "text/plain": [
       "dict_keys(['data', 'target', 'frame', 'categories', 'feature_names', 'target_names', 'DESCR', 'details', 'url'])"
      ]
     },
     "execution_count": 3,
     "metadata": {},
     "output_type": "execute_result"
    }
   ],
   "source": [
    "# Aquisitando dados:\n",
    "mnist = fetch_openml(\"mnist_784\",version=1);mnist.keys()"
   ]
  },
  {
   "cell_type": "code",
   "execution_count": 4,
   "id": "5a32aafd-4ac5-4937-9b3e-6021aff16e75",
   "metadata": {},
   "outputs": [
    {
     "name": "stdout",
     "output_type": "stream",
     "text": [
      "<class 'numpy.ndarray'> (70000, 784)\n",
      "<class 'pandas.core.arrays.categorical.Categorical'> (70000,)\n"
     ]
    }
   ],
   "source": [
    "# Separando covariáveis do target:\n",
    "X, y = mnist[\"data\"].values, mnist[\"target\"].values # Passando para numpy\n",
    "\n",
    "print(type(X), X.shape)\n",
    "print(type(y), y.shape)"
   ]
  },
  {
   "cell_type": "markdown",
   "id": "0049e54d-22a4-432a-9352-883b42147233",
   "metadata": {},
   "source": [
    "Ou seja, temos a Matriz, ou tensor de segunda ordem, $X \\in \\mathbb{R}^2$ tal que $X_{(70000 \\times 784)}$ e o vetor, ou tensor de primeira ordem, $y \\in \\mathbb{R}$ tal que $y_{(70000 \\times 1)}$. Note também que o tipo de dados dados já veem como objeto pandas. Entender isso é importante, pois os dados precisam estar numa estrutura adequada para que não haja problemas."
   ]
  },
  {
   "cell_type": "code",
   "execution_count": 5,
   "id": "903288f2-0250-4553-9f25-2596a5a25f63",
   "metadata": {},
   "outputs": [],
   "source": [
    "# Biblioteca para gerar Valor aleatório:\n",
    "from random import randint as rand"
   ]
  },
  {
   "cell_type": "code",
   "execution_count": 6,
   "id": "ecc604c7-af09-48c5-aa43-05ae4e191acd",
   "metadata": {},
   "outputs": [
    {
     "name": "stdout",
     "output_type": "stream",
     "text": [
      "Numero: 1\n"
     ]
    },
    {
     "data": {
      "image/png": "[encoded data removed]",
      "text/plain": [
       "<Figure size 640x480 with 1 Axes>"
      ]
     },
     "metadata": {},
     "output_type": "display_data"
    }
   ],
   "source": [
    "indice = rand(0, len(X))\n",
    "some_digit = X[indice]\n",
    "some_digit_image = some_digit.reshape(28, 28)\n",
    "print(f'Numero: {y[indice]}')\n",
    "plt.imshow(some_digit_image, cmap = mpl.cm.binary, interpolation=\"nearest\")\n",
    "plt.axis(\"off\")\n",
    "plt.show()"
   ]
  },
  {
   "cell_type": "markdown",
   "id": "187563ab-77ea-4c4e-aa45-4a365af4366f",
   "metadata": {},
   "source": [
    "O `fetch_openml` talvez não seja a melhor opção para a importação dos dados. Inclusive porque, até onde me parece, ela é uma opção antiga. Eu fiz por que é a forma que o livro faz, mas existem outras formas de se aquisitar esse conjunto de dados.\n",
    "\n",
    "## Digits dataset:\n",
    "\n",
    "Caso haja problema em utilizar essa função, uma outra abordagem é recorrer ao dataset `digits` que é conjunto de dados similar ao MNIST, acho que poderiamos resumi-lo como um MNIST simplificado. Talvez alguns tutoriais na internet até o usem chamando-o de MNIST."
   ]
  },
  {
   "cell_type": "code",
   "execution_count": 7,
   "id": "5adf23c3-0a30-45c8-8a23-fb2fd87d56e7",
   "metadata": {},
   "outputs": [],
   "source": [
    "# Importando datasets:\n",
    "from sklearn.datasets import load_digits"
   ]
  },
  {
   "cell_type": "code",
   "execution_count": 8,
   "id": "27acd336-a1bb-4f4a-8135-3c6b260e6c74",
   "metadata": {},
   "outputs": [
    {
     "data": {
      "text/plain": [
       "(1797, 64)"
      ]
     },
     "execution_count": 8,
     "metadata": {},
     "output_type": "execute_result"
    }
   ],
   "source": [
    "# Carregando Dataset:\n",
    "digits = load_digits() #load the dataset in digits\n",
    "digits.data.shape"
   ]
  },
  {
   "cell_type": "code",
   "execution_count": 9,
   "id": "c53e3834-f462-4f65-bf8c-eb601e3cbef9",
   "metadata": {},
   "outputs": [
    {
     "data": {
      "text/plain": [
       "dict_keys(['data', 'target', 'frame', 'feature_names', 'target_names', 'images', 'DESCR'])"
      ]
     },
     "execution_count": 9,
     "metadata": {},
     "output_type": "execute_result"
    }
   ],
   "source": [
    "# Elementos do conjunto de dados:\n",
    "digits.keys()"
   ]
  },
  {
   "cell_type": "markdown",
   "id": "c8a138e7-30fd-4006-b6bd-ff8b03714795",
   "metadata": {},
   "source": [
    "É um dataset menor, mas também serve, caso haja problema com o `fetch_openml`."
   ]
  },
  {
   "cell_type": "markdown",
   "id": "f155381a-e921-4f75-846a-b637dd0413ee",
   "metadata": {},
   "source": [
    "# Preparando os dados:\n",
    "\n",
    "Essa é uma etapa muito importante da construção do modelo, afinal, os dados precisam estar estruturados de forma adequada para a modelagem escolhida.\n",
    "\n",
    "## Avaliando a tipologia dos dados:\n",
    "\n",
    "Para que a modelagem funcione adequadamente, os dados precisam estar estruturados de forma adequada. Não precisamos checar aqui dados faltantes, NaN, porém, a tipologia é interessante checar. Não podemos fazer contas com strings, por exemplo, então os dados precisam estar no tipo correto para a modelagem."
   ]
  },
  {
   "cell_type": "code",
   "execution_count": 10,
   "id": "0f94f295-24a3-4849-843e-a15e92d79a84",
   "metadata": {},
   "outputs": [
    {
     "name": "stdout",
     "output_type": "stream",
     "text": [
      "<class 'pandas.core.arrays.categorical.Categorical'> <class 'str'> 1\n"
     ]
    }
   ],
   "source": [
    "# Chegando tipologia dos labels:\n",
    "print(type(y), type(y[indice]), y[indice])"
   ]
  },
  {
   "cell_type": "code",
   "execution_count": 11,
   "id": "62e79e5d-ae09-4970-83aa-fec622920bf3",
   "metadata": {},
   "outputs": [],
   "source": [
    "# Tranformando as string em números:\n",
    "y = y.astype(np.uint8)"
   ]
  },
  {
   "cell_type": "code",
   "execution_count": 12,
   "id": "e5365391-3109-4823-97b2-741fc96e3b4a",
   "metadata": {},
   "outputs": [
    {
     "name": "stdout",
     "output_type": "stream",
     "text": [
      "<class 'numpy.ndarray'> <class 'numpy.uint8'> 1\n"
     ]
    }
   ],
   "source": [
    "# Checando novamente tipologia dos labels:\n",
    "print(type(y), type(y[indice]), y[indice])"
   ]
  },
  {
   "cell_type": "markdown",
   "id": "b6d4018d-e8be-470a-b6b2-fc4440a29544",
   "metadata": {},
   "source": [
    "## Dados de Treino e de Teste:\n",
    "\n",
    "O primeiro passo importante é separar os dados entre dados de treino e dados de teste. Isso se dá, porque precisamos validar a qualidade do modelo em predizer conteúdos além dos quais ele foi treinado, mas que ainda sejam dados que estão dentro do propósito do modelo predizer. Basicamente a ideia aqui é estabelecer uma estratégia de metricação, controlando possíveis *Overfittings*"
   ]
  },
  {
   "cell_type": "code",
   "execution_count": 13,
   "id": "f7d28ee6-a8bb-4a80-8989-58ef66c76b4b",
   "metadata": {},
   "outputs": [],
   "source": [
    "# Separando os dados:\n",
    "Xtrain, Xtest, ytrain, ytest = X[:60000], X[60000:],y[:60000],y[60000:]"
   ]
  },
  {
   "cell_type": "markdown",
   "id": "b238c3dd-cd32-49fe-a68a-df79c3129ff1",
   "metadata": {},
   "source": [
    "# Modelagem:\n",
    "\n",
    "Passada a etapa de preparação dos dados, podemos finalmente começar a modelagem dos dados em si."
   ]
  },
  {
   "cell_type": "markdown",
   "id": "34ca9364-9792-44dc-9d38-1f41fccee11b",
   "metadata": {},
   "source": [
    "## Treinando um Binary Classifier:\n",
    "\n",
    "Os modelos de Classificação Binária são modelos simples, capazes de lidar apenas com duas classes, $C = \\{0,1\\}$ por exemplo. A ideia é utilizar esse classificador apenas como pretexto para falar das métricas de validação de um modelo de classificação. A ideia do livro é classificar o numéro 5, então será o que faremos aqui."
   ]
  },
  {
   "cell_type": "code",
   "execution_count": 14,
   "id": "c12c32b2-c95e-4c66-a010-6b07fd472869",
   "metadata": {},
   "outputs": [],
   "source": [
    "# Gerando vetores de treinamento:\n",
    "ytrain5 = (ytrain == 5) # Verdadeiro para 5's, falso caso contrário.\n",
    "ytest5 = (ytest == 5)"
   ]
  },
  {
   "cell_type": "markdown",
   "id": "9038abf4-ec53-4894-b49b-99004f54e97d",
   "metadata": {},
   "source": [
    "## Stochastic Gradient Descent (SGD) classifier:\n",
    "\n",
    "Um bom lugar para começar é com um **Gradiente Descendent Estocastico (SGD)** como classificador, usando a classe `SGDClassifier` do Scikit-Learn. Este classificador tem a vantagem de ser capaz de lidar com conjuntos de dados muito grandes de forma eficiente. Isto ocorre em parte porque o SGD lida com instâncias de treinamento de forma independente, uma de cada vez (o que também torna o SGD adequado para *aprendizagem online*), como veremos mais tarde. Vamos criar um `SGDClassifier` e treine-o em todo o conjunto de treinamento."
   ]
  },
  {
   "cell_type": "code",
   "execution_count": 15,
   "id": "f621f477-b545-41f5-a19b-574cd44301e1",
   "metadata": {},
   "outputs": [],
   "source": [
    "# Modelo Utilizado:\n",
    "from sklearn.linear_model import SGDClassifier"
   ]
  },
  {
   "cell_type": "code",
   "execution_count": 16,
   "id": "0358090b-dba9-40f3-b9a4-fb4129e43987",
   "metadata": {},
   "outputs": [
    {
     "data": {
      "text/html": [
       "<style>#sk-container-id-1 {\n",
       "  /* Definition of color scheme common for light and dark mode */\n",
       "  --sklearn-color-text: black;\n",
       "  --sklearn-color-line: gray;\n",
       "  /* Definition of color scheme for unfitted estimators */\n",
       "  --sklearn-color-unfitted-level-0: #fff5e6;\n",
       "  --sklearn-color-unfitted-level-1: #f6e4d2;\n",
       "  --sklearn-color-unfitted-level-2: #ffe0b3;\n",
       "  --sklearn-color-unfitted-level-3: chocolate;\n",
       "  /* Definition of color scheme for fitted estimators */\n",
       "  --sklearn-color-fitted-level-0: #f0f8ff;\n",
       "  --sklearn-color-fitted-level-1: #d4ebff;\n",
       "  --sklearn-color-fitted-level-2: #b3dbfd;\n",
       "  --sklearn-color-fitted-level-3: cornflowerblue;\n",
       "\n",
       "  /* Specific color for light theme */\n",
       "  --sklearn-color-text-on-default-background: var(--sg-text-color, var(--theme-code-foreground, var(--jp-content-font-color1, black)));\n",
       "  --sklearn-color-background: var(--sg-background-color, var(--theme-background, var(--jp-layout-color0, white)));\n",
       "  --sklearn-color-border-box: var(--sg-text-color, var(--theme-code-foreground, var(--jp-content-font-color1, black)));\n",
       "  --sklearn-color-icon: #696969;\n",
       "\n",
       "  @media (prefers-color-scheme: dark) {\n",
       "    /* Redefinition of color scheme for dark theme */\n",
       "    --sklearn-color-text-on-default-background: var(--sg-text-color, var(--theme-code-foreground, var(--jp-content-font-color1, white)));\n",
       "    --sklearn-color-background: var(--sg-background-color, var(--theme-background, var(--jp-layout-color0, #111)));\n",
       "    --sklearn-color-border-box: var(--sg-text-color, var(--theme-code-foreground, var(--jp-content-font-color1, white)));\n",
       "    --sklearn-color-icon: #878787;\n",
       "  }\n",
       "}\n",
       "\n",
       "#sk-container-id-1 {\n",
       "  color: var(--sklearn-color-text);\n",
       "}\n",
       "\n",
       "#sk-container-id-1 pre {\n",
       "  padding: 0;\n",
       "}\n",
       "\n",
       "#sk-container-id-1 input.sk-hidden--visually {\n",
       "  border: 0;\n",
       "  clip: rect(1px 1px 1px 1px);\n",
       "  clip: rect(1px, 1px, 1px, 1px);\n",
       "  height: 1px;\n",
       "  margin: -1px;\n",
       "  overflow: hidden;\n",
       "  padding: 0;\n",
       "  position: absolute;\n",
       "  width: 1px;\n",
       "}\n",
       "\n",
       "#sk-container-id-1 div.sk-dashed-wrapped {\n",
       "  border: 1px dashed var(--sklearn-color-line);\n",
       "  margin: 0 0.4em 0.5em 0.4em;\n",
       "  box-sizing: border-box;\n",
       "  padding-bottom: 0.4em;\n",
       "  background-color: var(--sklearn-color-background);\n",
       "}\n",
       "\n",
       "#sk-container-id-1 div.sk-container {\n",
       "  /* jupyter's `normalize.less` sets `[hidden] { display: none; }`\n",
       "     but bootstrap.min.css set `[hidden] { display: none !important; }`\n",
       "     so we also need the `!important` here to be able to override the\n",
       "     default hidden behavior on the sphinx rendered scikit-learn.org.\n",
       "     See: https://github.com/scikit-learn/scikit-learn/issues/21755 */\n",
       "  display: inline-block !important;\n",
       "  position: relative;\n",
       "}\n",
       "\n",
       "#sk-container-id-1 div.sk-text-repr-fallback {\n",
       "  display: none;\n",
       "}\n",
       "\n",
       "div.sk-parallel-item,\n",
       "div.sk-serial,\n",
       "div.sk-item {\n",
       "  /* draw centered vertical line to link estimators */\n",
       "  background-image: linear-gradient(var(--sklearn-color-text-on-default-background), var(--sklearn-color-text-on-default-background));\n",
       "  background-size: 2px 100%;\n",
       "  background-repeat: no-repeat;\n",
       "  background-position: center center;\n",
       "}\n",
       "\n",
       "/* Parallel-specific style estimator block */\n",
       "\n",
       "#sk-container-id-1 div.sk-parallel-item::after {\n",
       "  content: \"\";\n",
       "  width: 100%;\n",
       "  border-bottom: 2px solid var(--sklearn-color-text-on-default-background);\n",
       "  flex-grow: 1;\n",
       "}\n",
       "\n",
       "#sk-container-id-1 div.sk-parallel {\n",
       "  display: flex;\n",
       "  align-items: stretch;\n",
       "  justify-content: center;\n",
       "  background-color: var(--sklearn-color-background);\n",
       "  position: relative;\n",
       "}\n",
       "\n",
       "#sk-container-id-1 div.sk-parallel-item {\n",
       "  display: flex;\n",
       "  flex-direction: column;\n",
       "}\n",
       "\n",
       "#sk-container-id-1 div.sk-parallel-item:first-child::after {\n",
       "  align-self: flex-end;\n",
       "  width: 50%;\n",
       "}\n",
       "\n",
       "#sk-container-id-1 div.sk-parallel-item:last-child::after {\n",
       "  align-self: flex-start;\n",
       "  width: 50%;\n",
       "}\n",
       "\n",
       "#sk-container-id-1 div.sk-parallel-item:only-child::after {\n",
       "  width: 0;\n",
       "}\n",
       "\n",
       "/* Serial-specific style estimator block */\n",
       "\n",
       "#sk-container-id-1 div.sk-serial {\n",
       "  display: flex;\n",
       "  flex-direction: column;\n",
       "  align-items: center;\n",
       "  background-color: var(--sklearn-color-background);\n",
       "  padding-right: 1em;\n",
       "  padding-left: 1em;\n",
       "}\n",
       "\n",
       "\n",
       "/* Toggleable style: style used for estimator/Pipeline/ColumnTransformer box that is\n",
       "clickable and can be expanded/collapsed.\n",
       "- Pipeline and ColumnTransformer use this feature and define the default style\n",
       "- Estimators will overwrite some part of the style using the `sk-estimator` class\n",
       "*/\n",
       "\n",
       "/* Pipeline and ColumnTransformer style (default) */\n",
       "\n",
       "#sk-container-id-1 div.sk-toggleable {\n",
       "  /* Default theme specific background. It is overwritten whether we have a\n",
       "  specific estimator or a Pipeline/ColumnTransformer */\n",
       "  background-color: var(--sklearn-color-background);\n",
       "}\n",
       "\n",
       "/* Toggleable label */\n",
       "#sk-container-id-1 label.sk-toggleable__label {\n",
       "  cursor: pointer;\n",
       "  display: block;\n",
       "  width: 100%;\n",
       "  margin-bottom: 0;\n",
       "  padding: 0.5em;\n",
       "  box-sizing: border-box;\n",
       "  text-align: center;\n",
       "}\n",
       "\n",
       "#sk-container-id-1 label.sk-toggleable__label-arrow:before {\n",
       "  /* Arrow on the left of the label */\n",
       "  content: \"▸\";\n",
       "  float: left;\n",
       "  margin-right: 0.25em;\n",
       "  color: var(--sklearn-color-icon);\n",
       "}\n",
       "\n",
       "#sk-container-id-1 label.sk-toggleable__label-arrow:hover:before {\n",
       "  color: var(--sklearn-color-text);\n",
       "}\n",
       "\n",
       "/* Toggleable content - dropdown */\n",
       "\n",
       "#sk-container-id-1 div.sk-toggleable__content {\n",
       "  max-height: 0;\n",
       "  max-width: 0;\n",
       "  overflow: hidden;\n",
       "  text-align: left;\n",
       "  /* unfitted */\n",
       "  background-color: var(--sklearn-color-unfitted-level-0);\n",
       "}\n",
       "\n",
       "#sk-container-id-1 div.sk-toggleable__content.fitted {\n",
       "  /* fitted */\n",
       "  background-color: var(--sklearn-color-fitted-level-0);\n",
       "}\n",
       "\n",
       "#sk-container-id-1 div.sk-toggleable__content pre {\n",
       "  margin: 0.2em;\n",
       "  border-radius: 0.25em;\n",
       "  color: var(--sklearn-color-text);\n",
       "  /* unfitted */\n",
       "  background-color: var(--sklearn-color-unfitted-level-0);\n",
       "}\n",
       "\n",
       "#sk-container-id-1 div.sk-toggleable__content.fitted pre {\n",
       "  /* unfitted */\n",
       "  background-color: var(--sklearn-color-fitted-level-0);\n",
       "}\n",
       "\n",
       "#sk-container-id-1 input.sk-toggleable__control:checked~div.sk-toggleable__content {\n",
       "  /* Expand drop-down */\n",
       "  max-height: 200px;\n",
       "  max-width: 100%;\n",
       "  overflow: auto;\n",
       "}\n",
       "\n",
       "#sk-container-id-1 input.sk-toggleable__control:checked~label.sk-toggleable__label-arrow:before {\n",
       "  content: \"▾\";\n",
       "}\n",
       "\n",
       "/* Pipeline/ColumnTransformer-specific style */\n",
       "\n",
       "#sk-container-id-1 div.sk-label input.sk-toggleable__control:checked~label.sk-toggleable__label {\n",
       "  color: var(--sklearn-color-text);\n",
       "  background-color: var(--sklearn-color-unfitted-level-2);\n",
       "}\n",
       "\n",
       "#sk-container-id-1 div.sk-label.fitted input.sk-toggleable__control:checked~label.sk-toggleable__label {\n",
       "  background-color: var(--sklearn-color-fitted-level-2);\n",
       "}\n",
       "\n",
       "/* Estimator-specific style */\n",
       "\n",
       "/* Colorize estimator box */\n",
       "#sk-container-id-1 div.sk-estimator input.sk-toggleable__control:checked~label.sk-toggleable__label {\n",
       "  /* unfitted */\n",
       "  background-color: var(--sklearn-color-unfitted-level-2);\n",
       "}\n",
       "\n",
       "#sk-container-id-1 div.sk-estimator.fitted input.sk-toggleable__control:checked~label.sk-toggleable__label {\n",
       "  /* fitted */\n",
       "  background-color: var(--sklearn-color-fitted-level-2);\n",
       "}\n",
       "\n",
       "#sk-container-id-1 div.sk-label label.sk-toggleable__label,\n",
       "#sk-container-id-1 div.sk-label label {\n",
       "  /* The background is the default theme color */\n",
       "  color: var(--sklearn-color-text-on-default-background);\n",
       "}\n",
       "\n",
       "/* On hover, darken the color of the background */\n",
       "#sk-container-id-1 div.sk-label:hover label.sk-toggleable__label {\n",
       "  color: var(--sklearn-color-text);\n",
       "  background-color: var(--sklearn-color-unfitted-level-2);\n",
       "}\n",
       "\n",
       "/* Label box, darken color on hover, fitted */\n",
       "#sk-container-id-1 div.sk-label.fitted:hover label.sk-toggleable__label.fitted {\n",
       "  color: var(--sklearn-color-text);\n",
       "  background-color: var(--sklearn-color-fitted-level-2);\n",
       "}\n",
       "\n",
       "/* Estimator label */\n",
       "\n",
       "#sk-container-id-1 div.sk-label label {\n",
       "  font-family: monospace;\n",
       "  font-weight: bold;\n",
       "  display: inline-block;\n",
       "  line-height: 1.2em;\n",
       "}\n",
       "\n",
       "#sk-container-id-1 div.sk-label-container {\n",
       "  text-align: center;\n",
       "}\n",
       "\n",
       "/* Estimator-specific */\n",
       "#sk-container-id-1 div.sk-estimator {\n",
       "  font-family: monospace;\n",
       "  border: 1px dotted var(--sklearn-color-border-box);\n",
       "  border-radius: 0.25em;\n",
       "  box-sizing: border-box;\n",
       "  margin-bottom: 0.5em;\n",
       "  /* unfitted */\n",
       "  background-color: var(--sklearn-color-unfitted-level-0);\n",
       "}\n",
       "\n",
       "#sk-container-id-1 div.sk-estimator.fitted {\n",
       "  /* fitted */\n",
       "  background-color: var(--sklearn-color-fitted-level-0);\n",
       "}\n",
       "\n",
       "/* on hover */\n",
       "#sk-container-id-1 div.sk-estimator:hover {\n",
       "  /* unfitted */\n",
       "  background-color: var(--sklearn-color-unfitted-level-2);\n",
       "}\n",
       "\n",
       "#sk-container-id-1 div.sk-estimator.fitted:hover {\n",
       "  /* fitted */\n",
       "  background-color: var(--sklearn-color-fitted-level-2);\n",
       "}\n",
       "\n",
       "/* Specification for estimator info (e.g. \"i\" and \"?\") */\n",
       "\n",
       "/* Common style for \"i\" and \"?\" */\n",
       "\n",
       ".sk-estimator-doc-link,\n",
       "a:link.sk-estimator-doc-link,\n",
       "a:visited.sk-estimator-doc-link {\n",
       "  float: right;\n",
       "  font-size: smaller;\n",
       "  line-height: 1em;\n",
       "  font-family: monospace;\n",
       "  background-color: var(--sklearn-color-background);\n",
       "  border-radius: 1em;\n",
       "  height: 1em;\n",
       "  width: 1em;\n",
       "  text-decoration: none !important;\n",
       "  margin-left: 1ex;\n",
       "  /* unfitted */\n",
       "  border: var(--sklearn-color-unfitted-level-1) 1pt solid;\n",
       "  color: var(--sklearn-color-unfitted-level-1);\n",
       "}\n",
       "\n",
       ".sk-estimator-doc-link.fitted,\n",
       "a:link.sk-estimator-doc-link.fitted,\n",
       "a:visited.sk-estimator-doc-link.fitted {\n",
       "  /* fitted */\n",
       "  border: var(--sklearn-color-fitted-level-1) 1pt solid;\n",
       "  color: var(--sklearn-color-fitted-level-1);\n",
       "}\n",
       "\n",
       "/* On hover */\n",
       "div.sk-estimator:hover .sk-estimator-doc-link:hover,\n",
       ".sk-estimator-doc-link:hover,\n",
       "div.sk-label-container:hover .sk-estimator-doc-link:hover,\n",
       ".sk-estimator-doc-link:hover {\n",
       "  /* unfitted */\n",
       "  background-color: var(--sklearn-color-unfitted-level-3);\n",
       "  color: var(--sklearn-color-background);\n",
       "  text-decoration: none;\n",
       "}\n",
       "\n",
       "div.sk-estimator.fitted:hover .sk-estimator-doc-link.fitted:hover,\n",
       ".sk-estimator-doc-link.fitted:hover,\n",
       "div.sk-label-container:hover .sk-estimator-doc-link.fitted:hover,\n",
       ".sk-estimator-doc-link.fitted:hover {\n",
       "  /* fitted */\n",
       "  background-color: var(--sklearn-color-fitted-level-3);\n",
       "  color: var(--sklearn-color-background);\n",
       "  text-decoration: none;\n",
       "}\n",
       "\n",
       "/* Span, style for the box shown on hovering the info icon */\n",
       ".sk-estimator-doc-link span {\n",
       "  display: none;\n",
       "  z-index: 9999;\n",
       "  position: relative;\n",
       "  font-weight: normal;\n",
       "  right: .2ex;\n",
       "  padding: .5ex;\n",
       "  margin: .5ex;\n",
       "  width: min-content;\n",
       "  min-width: 20ex;\n",
       "  max-width: 50ex;\n",
       "  color: var(--sklearn-color-text);\n",
       "  box-shadow: 2pt 2pt 4pt #999;\n",
       "  /* unfitted */\n",
       "  background: var(--sklearn-color-unfitted-level-0);\n",
       "  border: .5pt solid var(--sklearn-color-unfitted-level-3);\n",
       "}\n",
       "\n",
       ".sk-estimator-doc-link.fitted span {\n",
       "  /* fitted */\n",
       "  background: var(--sklearn-color-fitted-level-0);\n",
       "  border: var(--sklearn-color-fitted-level-3);\n",
       "}\n",
       "\n",
       ".sk-estimator-doc-link:hover span {\n",
       "  display: block;\n",
       "}\n",
       "\n",
       "/* \"?\"-specific style due to the `<a>` HTML tag */\n",
       "\n",
       "#sk-container-id-1 a.estimator_doc_link {\n",
       "  float: right;\n",
       "  font-size: 1rem;\n",
       "  line-height: 1em;\n",
       "  font-family: monospace;\n",
       "  background-color: var(--sklearn-color-background);\n",
       "  border-radius: 1rem;\n",
       "  height: 1rem;\n",
       "  width: 1rem;\n",
       "  text-decoration: none;\n",
       "  /* unfitted */\n",
       "  color: var(--sklearn-color-unfitted-level-1);\n",
       "  border: var(--sklearn-color-unfitted-level-1) 1pt solid;\n",
       "}\n",
       "\n",
       "#sk-container-id-1 a.estimator_doc_link.fitted {\n",
       "  /* fitted */\n",
       "  border: var(--sklearn-color-fitted-level-1) 1pt solid;\n",
       "  color: var(--sklearn-color-fitted-level-1);\n",
       "}\n",
       "\n",
       "/* On hover */\n",
       "#sk-container-id-1 a.estimator_doc_link:hover {\n",
       "  /* unfitted */\n",
       "  background-color: var(--sklearn-color-unfitted-level-3);\n",
       "  color: var(--sklearn-color-background);\n",
       "  text-decoration: none;\n",
       "}\n",
       "\n",
       "#sk-container-id-1 a.estimator_doc_link.fitted:hover {\n",
       "  /* fitted */\n",
       "  background-color: var(--sklearn-color-fitted-level-3);\n",
       "}\n",
       "</style><div id=\"sk-container-id-1\" class=\"sk-top-container\"><div class=\"sk-text-repr-fallback\"><pre>SGDClassifier(random_state=42)</pre><b>In a Jupyter environment, please rerun this cell to show the HTML representation or trust the notebook. <br />On GitHub, the HTML representation is unable to render, please try loading this page with nbviewer.org.</b></div><div class=\"sk-container\" hidden><div class=\"sk-item\"><div class=\"sk-estimator fitted sk-toggleable\"><input class=\"sk-toggleable__control sk-hidden--visually\" id=\"sk-estimator-id-1\" type=\"checkbox\" checked><label for=\"sk-estimator-id-1\" class=\"sk-toggleable__label fitted sk-toggleable__label-arrow fitted\">&nbsp;&nbsp;SGDClassifier<a class=\"sk-estimator-doc-link fitted\" rel=\"noreferrer\" target=\"_blank\" href=\"https://scikit-learn.org/1.5/modules/generated/sklearn.linear_model.SGDClassifier.html\">?<span>Documentation for SGDClassifier</span></a><span class=\"sk-estimator-doc-link fitted\">i<span>Fitted</span></span></label><div class=\"sk-toggleable__content fitted\"><pre>SGDClassifier(random_state=42)</pre></div> </div></div></div></div>"
      ],
      "text/plain": [
       "SGDClassifier(random_state=42)"
      ]
     },
     "execution_count": 16,
     "metadata": {},
     "output_type": "execute_result"
    }
   ],
   "source": [
    "# Intanciando Modelo:\n",
    "sgd_clf = SGDClassifier(random_state=42)\n",
    "\n",
    "# Trainando Modelo:\n",
    "sgd_clf.fit(Xtrain, ytrain5)"
   ]
  },
  {
   "cell_type": "markdown",
   "id": "c498851d-e1af-4209-b361-e1d48e9ecaff",
   "metadata": {},
   "source": [
    "O `SGDClassifier` depende da aleatoriedade durante o treinamento (portanto o nome “estocástico”). Se você quiser resultados reproduzíveis, você deve definir o parâmetro random_state."
   ]
  },
  {
   "cell_type": "code",
   "execution_count": 17,
   "id": "1ac8d90d-8dd9-43e9-b4ae-184b5d48198c",
   "metadata": {},
   "outputs": [
    {
     "name": "stdout",
     "output_type": "stream",
     "text": [
      "Verdade, o numeor é 5\n"
     ]
    }
   ],
   "source": [
    "i = 0\n",
    "if sgd_clf.predict([X[i]]):\n",
    "    print(f'Verdade, o numeor é {y[i]}')"
   ]
  },
  {
   "cell_type": "markdown",
   "id": "3690019c-c755-4c97-ae9e-7194ba2a8002",
   "metadata": {},
   "source": [
    "# Mensurando Performance:\n",
    "\n",
    "A mudança no dominio das variáveis resposta gera toda uma mudança de abordagem na construção dos modelos. Dada essa mudança substancial na modelagem, surge dai novas formas de mensurar a performance dos modelos."
   ]
  },
  {
   "cell_type": "markdown",
   "id": "b05133d1-30db-49d9-9620-835c9e3a21f5",
   "metadata": {},
   "source": [
    "## Implementando a Validação Cruzada:\n",
    "\n",
    "O método de validação cruzada é muito importante para a construção de um modelo de qualidade. A ideia é simples, \"*Quem garante que você escolheu a amostra certa na construção do modelo?*\". A resposta desse questionamento é, \"*então vamos testar com todas as amostras possíveis*\". Dá pra simplificar isso como um processo de reamostragem. A ideia é simples, divide um conjunto em $k$ subconjuntos consecutivas, $k$ é usado como teste enquanto $k-1$ como treinamento, então, para cada conjunto de teste, é criado uma validação."
   ]
  },
  {
   "cell_type": "code",
   "execution_count": 18,
   "id": "4de4dd78-2ef7-4b41-8964-365c890edbc5",
   "metadata": {},
   "outputs": [],
   "source": [
    "# Importações para validação Cruzada:\n",
    "from sklearn.model_selection import StratifiedKFold\n",
    "from sklearn.base import clone # Para clonar o modelo."
   ]
  },
  {
   "cell_type": "markdown",
   "id": "cf95e3fb-8bef-4778-b33f-827033c49bc6",
   "metadata": {},
   "source": [
    "O `StratifiedKFold` é uma variação do `KFold`. O `KFold` tradicional fornece índices de treinamento/teste para dividir dados em conjuntos de treinamento/teste. Divida o conjunto de dados em k dobras consecutivas (sem embaralhar por padrão). O `StratifiedKFold` retorna dobras **estratificadas**. As dobras são feitas preservando a porcentagem de amostras de cada classe, ou seja, ele pondera a quantidade de dobras pela quantidades de classes, uma boa opção para lidar com dados **desbalanceados**."
   ]
  },
  {
   "cell_type": "code",
   "execution_count": 19,
   "id": "5d4d8c2e-1786-4563-998c-077ec1a5ac2f",
   "metadata": {},
   "outputs": [],
   "source": [
    "# Instanciando o KFold Estratíficado:\n",
    "skfolds = StratifiedKFold(n_splits=3, random_state=42,shuffle=True) # Shuffle ativado:"
   ]
  },
  {
   "cell_type": "code",
   "execution_count": 20,
   "id": "e706ecf7-c437-4309-8cdf-f0411a94557e",
   "metadata": {},
   "outputs": [
    {
     "name": "stderr",
     "output_type": "stream",
     "text": [
      "3it [00:25,  8.53s/it]"
     ]
    },
    {
     "name": "stdout",
     "output_type": "stream",
     "text": [
      "Tempo Gasto: 25.59 segundos\n"
     ]
    },
    {
     "name": "stderr",
     "output_type": "stream",
     "text": [
      "\n"
     ]
    }
   ],
   "source": [
    "acuracias = []\n",
    "inicio = time()\n",
    "# Gerando Métricas:\n",
    "for train_index, test_index in tqdm(skfolds.split(Xtrain, ytrain5)):\n",
    "    # Gerando partições:\n",
    "    clone_clf = clone(sgd_clf) # Para cada folder\n",
    "    XtrainFolds = Xtrain[train_index]\n",
    "    ytrainFolds = ytrain5[train_index]\n",
    "    XtestFold = Xtrain[test_index]\n",
    "    ytestFold = ytrain5[test_index]\n",
    "\n",
    "    # Gerando Mensuração:\n",
    "    clone_clf.fit(XtrainFolds,ytrainFolds)\n",
    "    ypred = clone_clf.predict(XtestFold)\n",
    "    n_correct = sum(ypred == ytestFold) # Soma 1 a cada acerto.\n",
    "    acuracia = n_correct/len(ypred) # Calculando a acurácia do modelo\n",
    "\n",
    "    acuracias.append(acuracia)\n",
    "final = time()\n",
    "\n",
    "print(f'Tempo Gasto: {round(final-inicio,2)} segundos')"
   ]
  },
  {
   "cell_type": "code",
   "execution_count": 21,
   "id": "f44d53f7-3018-472d-8ec1-ba0abefcc3fc",
   "metadata": {},
   "outputs": [
    {
     "name": "stdout",
     "output_type": "stream",
     "text": [
      "0 0.9669\n",
      "1 0.91625\n",
      "2 0.96785\n"
     ]
    }
   ],
   "source": [
    "for i,acuracia in enumerate(acuracias):\n",
    "    print(i,acuracia)"
   ]
  },
  {
   "cell_type": "code",
   "execution_count": 22,
   "id": "59a0ba1d-544e-410c-bb2f-b13002d9f883",
   "metadata": {},
   "outputs": [
    {
     "name": "stdout",
     "output_type": "stream",
     "text": [
      "0.95% de acurácia total\n"
     ]
    }
   ],
   "source": [
    "# Média dos validações:\n",
    "print(f'{round(sum(acuracias)/len(acuracias),2)}% de acurácia total')"
   ]
  },
  {
   "cell_type": "code",
   "execution_count": 23,
   "id": "8bb1cd41-ab84-4006-b1fa-df002eebc593",
   "metadata": {},
   "outputs": [
    {
     "name": "stdout",
     "output_type": "stream",
     "text": [
      "Desvio Padrão = 0.024\n"
     ]
    }
   ],
   "source": [
    "# Variância:\n",
    "desvioPadrao = np.array(acuracias).std();desvioPadrao\n",
    "print(f'Desvio Padrão = {round(desvioPadrao,3)}')"
   ]
  },
  {
   "cell_type": "markdown",
   "id": "5d5ca3bf-9a7b-4333-9189-a1019571f525",
   "metadata": {},
   "source": [
    "Podemos também implementar a própria estrutura do `sklearn` para realizar a validação cruzada. Para isso, vamos usar a função `cross_val_score()` para avaliar seu modelo `SGDClassifier` usando validação cruzada K-fold, com três dobras. Lembre-se de que a validação cruzada K-fold significa dividir o conjunto de treinamento em K-folds (neste caso, três) e, em seguida, fazer fazer previsões e avaliá-las em cada dobra usando um modelo treinado no dobras restantes."
   ]
  },
  {
   "cell_type": "code",
   "execution_count": 24,
   "id": "c1249917-3f19-4890-bf3b-0a335d64b501",
   "metadata": {},
   "outputs": [],
   "source": [
    "# Importando a validação Cruzada:\n",
    "from sklearn.model_selection import cross_val_score"
   ]
  },
  {
   "cell_type": "code",
   "execution_count": 25,
   "id": "62c819fa-883c-41a1-b200-25801c2c8c5b",
   "metadata": {},
   "outputs": [
    {
     "name": "stdout",
     "output_type": "stream",
     "text": [
      "Tempo Gasto: 21.03 segundos\n"
     ]
    }
   ],
   "source": [
    "inicio = time()\n",
    "# Realizando a Validação Cruzada:\n",
    "acuraciasSklearn = cross_val_score(sgd_clf, Xtrain, ytrain5, cv=3, scoring=\"accuracy\");acuraciasSklearn\n",
    "final = time()\n",
    "print(f'Tempo Gasto: {round(final-inicio,2)} segundos')"
   ]
  },
  {
   "cell_type": "code",
   "execution_count": 26,
   "id": "d5b34db9-6219-4de0-9351-eff3783013cf",
   "metadata": {},
   "outputs": [
    {
     "name": "stdout",
     "output_type": "stream",
     "text": [
      "0.9669 - 0.95035, Iguais? False\n",
      "0.91625 - 0.96035, Iguais? False\n",
      "0.96785 - 0.9604, Iguais? False\n"
     ]
    }
   ],
   "source": [
    "# Checando Valor a valor:\n",
    "for i in range(0,3):\n",
    "    print(f'{acuracias[i]} - {acuraciasSklearn[i]}, Iguais? {acuracias[i] == acuraciasSklearn[i]}')"
   ]
  },
  {
   "cell_type": "code",
   "execution_count": 27,
   "id": "b2bfb08e-891e-419e-8e41-992abe811432",
   "metadata": {},
   "outputs": [
    {
     "name": "stdout",
     "output_type": "stream",
     "text": [
      "Média: 0.96\n",
      "Desvio Padrão: 0.0047\n"
     ]
    }
   ],
   "source": [
    "# Estaísticas das acurácias do SKlean:\n",
    "meanSK = acuraciasSklearn.mean()\n",
    "desvioPadraoSK = acuraciasSklearn.std()\n",
    "print(f'Média: {round(meanSK,2)}')\n",
    "print(f'Desvio Padrão: {round(desvioPadraoSK,4)}')"
   ]
  },
  {
   "cell_type": "markdown",
   "id": "8681a3e9-46e2-4cca-920a-724ae3d4d308",
   "metadata": {},
   "source": [
    "## Matriz de Confusão:\n",
    "\n",
    "A **matriz de confusão** é uma forma visual de avaliar a qualidade do modelo. A ideia é simples, queremos que os labels preditos pelo modelo coincidam com os labels reais. Utilizando a função `confusion_matrix()` do `sklearn` podemos gerar uma matriz que possibilita visualizar, classe a classe, quantas vezes elas se coincidem. Obviamente, para gerar a matriz de confusão, precisamos ter as predições, então vamos utilizar a função `cross_val_predict()` para gerar as predições para cada *fold* de modo a termos uma matriz de predições."
   ]
  },
  {
   "cell_type": "code",
   "execution_count": 28,
   "id": "c28aaeba-4682-4474-8ff3-3f381ec52986",
   "metadata": {},
   "outputs": [],
   "source": [
    "# Importando a função de predições:\n",
    "from sklearn.model_selection import cross_val_predict"
   ]
  },
  {
   "cell_type": "code",
   "execution_count": 29,
   "id": "c937f8b7-3f0d-435e-a2b8-7867ad0d3479",
   "metadata": {},
   "outputs": [
    {
     "data": {
      "text/plain": [
       "array([ True, False, False, ...,  True, False, False])"
      ]
     },
     "execution_count": 29,
     "metadata": {},
     "output_type": "execute_result"
    }
   ],
   "source": [
    "# Realizando Predições:\n",
    "y_train_pred = cross_val_predict(sgd_clf, Xtrain, ytrain5, cv=3);y_train_pred"
   ]
  },
  {
   "cell_type": "markdown",
   "id": "ab55399f-2f2b-4dd2-a473-c5d128a627a7",
   "metadata": {},
   "source": [
    "Assim como a função `cross_val_score()`, `cross_val_predict()` executa a validação cruzada com K-fold, mas em vez de retornar as pontuações da avaliação, retorna as previsões feitas em cada dobra de teste. Isso significa que você obtém uma previsão limpa para cada instância no conjunto de treinamento (“limpo”, significando que a previsão é feita por um modelo que nunca viu os dados durante o treinamento)."
   ]
  },
  {
   "cell_type": "code",
   "execution_count": 30,
   "id": "073eb0fd-59a6-466c-9a09-7e05574a3cdb",
   "metadata": {},
   "outputs": [],
   "source": [
    "# Importando Matriz de Confusão:\n",
    "from sklearn.metrics import confusion_matrix"
   ]
  },
  {
   "cell_type": "code",
   "execution_count": 31,
   "id": "3be11898-c5cb-4765-b082-253f3981241c",
   "metadata": {},
   "outputs": [
    {
     "data": {
      "text/plain": [
       "array([[53892,   687],\n",
       "       [ 1891,  3530]], dtype=int64)"
      ]
     },
     "execution_count": 31,
     "metadata": {},
     "output_type": "execute_result"
    }
   ],
   "source": [
    "matrizConfusion = confusion_matrix(ytrain5, y_train_pred);matrizConfusion"
   ]
  },
  {
   "cell_type": "markdown",
   "id": "55712dec-0309-40ce-95d8-00a3ea3fd0a0",
   "metadata": {},
   "source": [
    "Uma outra forma de visualizar isso, é utilizar a método `.heatmap()` do `seaborn` para deixar a visualização mais agradável."
   ]
  },
  {
   "cell_type": "code",
   "execution_count": 32,
   "id": "d32584a8-407c-43df-bc5d-b1c127aa2156",
   "metadata": {},
   "outputs": [
    {
     "data": {
      "image/png": "[encoded data removed]",
      "text/plain": [
       "<Figure size 800x600 with 2 Axes>"
      ]
     },
     "metadata": {},
     "output_type": "display_data"
    }
   ],
   "source": [
    "# Configurando o tamanho da figura\n",
    "plt.figure(figsize=(8, 6))\n",
    "\n",
    "# Criando o heatmap\n",
    "sns.heatmap(matrizConfusion, annot=True, fmt='d', cbar=True, linewidths=1)\n",
    "\n",
    "# Adicionando títulos e rótulos\n",
    "plt.title('Matriz de Confusão', fontsize=18)\n",
    "plt.xlabel('Classe Predita', fontsize=14)\n",
    "plt.ylabel('Classe Real', fontsize=14)\n",
    "\n",
    "# Exibindo o gráfico\n",
    "plt.show()"
   ]
  },
  {
   "cell_type": "markdown",
   "id": "1de6ea46-1a28-458f-b377-9f0f4fc0199d",
   "metadata": {},
   "source": [
    "Note que desse jeito, conseguimos visualizar bem os **valores verdadeiros**, os **falsos positivos** e **falsos negativos**"
   ]
  },
  {
   "cell_type": "markdown",
   "id": "73682673-e78e-4b7f-8f0f-01dc1bedd1f3",
   "metadata": {},
   "source": [
    "# Métricas Importantes:\n",
    "\n",
    "Dado a **matriz de confusão**, existem algumas métricas importantes e muito comumente usadas no contexto de **classificação**. São elas,\n",
    "\n",
    "* Acurácia;\n",
    "* Precisão;\n",
    "* Recall;\n",
    "* F1-Score.\n",
    "\n",
    "Para simplificar a nomenclatura, aqui utilizaremos,\n",
    "\n",
    "* **VP** = **V**erdadeiro **P**ositivo;\n",
    "* **FP** = **F**also **P**ositivo;\n",
    "* **VN** = **V**erdadeiro **N**egativo;\n",
    "* **FN** = **F**also **N**egativo.\n",
    "\n",
    "A ideia aqui é calcular esses métodos com o sklearn, e com funções próprias, de modo que conseguiremos inclusive comparar os resultados."
   ]
  },
  {
   "cell_type": "markdown",
   "id": "db74d3bb-2cb0-4932-b330-cc7749a0adde",
   "metadata": {},
   "source": [
    "# Acurácia:\n",
    "\n",
    "Já falamos de acurácia, mas eu vou voltar nela aqui para defini-la melhor. A acurácia é uma das métricas mais básicas, não levando em consideração as nuances com relação a predição no caso de classificação. Matematicamente temos,\n",
    "\n",
    "$$\\text{Acurácia} = \\frac{VP+VN}{VP+FP+VN+FN}$$"
   ]
  },
  {
   "cell_type": "code",
   "execution_count": 53,
   "id": "04dca2ed-4280-498c-8fe0-07d97e128b67",
   "metadata": {},
   "outputs": [],
   "source": [
    "def acuracia(matConfusao):\n",
    "    '''\n",
    "    Função que calcula a acurácia do modelo\n",
    "    dada sua matriz de confusão.\n",
    "\n",
    "    # Entrada:\n",
    "    numpy.obj: A nossa matriz de confusão.\n",
    "\n",
    "    # Saída:\n",
    "    float: Acurácia do modelo.\n",
    "    '''\n",
    "\n",
    "    # Separando Elementos:\n",
    "    vp = matrizConfusion[1][1]\n",
    "    vn = matConfusao[0][0]\n",
    "    predicts = sum(sum(matrizConfusion)) # Total de predições\n",
    "\n",
    "    # Calculo de acurácia:\n",
    "    acuracia = (vp+vn)/predicts\n",
    "\n",
    "    return acuracia"
   ]
  },
  {
   "cell_type": "code",
   "execution_count": 79,
   "id": "5f4607e2-87c5-4b1c-909a-286be561e4e2",
   "metadata": {},
   "outputs": [
    {
     "name": "stdout",
     "output_type": "stream",
     "text": [
      "A acurácia do modelo é de 95.7%\n"
     ]
    }
   ],
   "source": [
    "# Checando a acurácia do modelo:\n",
    "acuracy = round(acuracia(matrizConfusion),4)*100 # Passando para porcentagem\n",
    "print(f'A acurácia do modelo é de {acuracy}%')"
   ]
  },
  {
   "cell_type": "markdown",
   "id": "893c63d5-68b7-4fa2-9acc-396d65283750",
   "metadata": {},
   "source": [
    "# Precisão:\n",
    "\n",
    "Precisão, também chamada de **valor preditivo positivo**, é outra métrica de mensuração da qualidade do modelo que também é construida através da matriz de confusão, porém olhando apenas para os valores positivos da predição e podemos defini-la como,\n",
    "\n",
    "$$\\text{Precisão} = \\frac{VP}{VP+FP}$$\n",
    "\n",
    "É importante notar que a $\\text{precisão}\\neq \\text{acuracia}$, inclusive há uma interpretação importante aqui, dado que **precisão é o inverso da variância** e **acurácia é o inverso do viés**, ou seja, duas métricas diferentes para falar de elementos muito importantes na construção do modelo. (Lembre-se do exemplo do tiro ao alvo. Precisão mede o agrupamento dos tiros, acurácia mede a tendencia ao centro do alvo)."
   ]
  },
  {
   "cell_type": "code",
   "execution_count": 57,
   "id": "af9274a8-692a-4f0e-99b7-15f62e95f0ff",
   "metadata": {},
   "outputs": [],
   "source": [
    "def precisao(matConfusao):\n",
    "    '''\n",
    "    Função construida para calcular a precisão\n",
    "    do modelo dado a matriz de confusão.\n",
    "    '''\n",
    "\n",
    "    # Extraindo elementos:\n",
    "    vp = matrizConfusion[1][1]\n",
    "    fp = matrizConfusion[0][1]\n",
    "\n",
    "\n",
    "    # Calculando a precisão:\n",
    "    precisao = vp/(vp+fp)\n",
    "\n",
    "    return precisao"
   ]
  },
  {
   "cell_type": "code",
   "execution_count": 59,
   "id": "42233ad3-caca-413d-a179-843aeef98a92",
   "metadata": {},
   "outputs": [
    {
     "name": "stdout",
     "output_type": "stream",
     "text": [
      "A precisão do modelo é de 83.71%\n"
     ]
    }
   ],
   "source": [
    "# Checando a precisão do modelo:\n",
    "precision = round(precisao(matrizConfusion),4)*100 # Passando para porcentagem\n",
    "print(f'A precisão do modelo é de {precision}%')"
   ]
  },
  {
   "cell_type": "code",
   "execution_count": 69,
   "id": "0394ce7a-803c-4722-8ba1-a9342cd96ffb",
   "metadata": {},
   "outputs": [],
   "source": [
    "# Importando a método de precisão:\n",
    "from sklearn.metrics import precision_score"
   ]
  },
  {
   "cell_type": "code",
   "execution_count": 73,
   "id": "a425cd78-a91f-493f-942c-6d0bc487992c",
   "metadata": {},
   "outputs": [
    {
     "data": {
      "text/plain": [
       "0.8370879772350012"
      ]
     },
     "execution_count": 73,
     "metadata": {},
     "output_type": "execute_result"
    }
   ],
   "source": [
    "# Precisão sklearn\n",
    "precision_score(ytrain5, y_train_pred)"
   ]
  },
  {
   "cell_type": "markdown",
   "id": "e576eff9-d8fa-4123-8c26-fd016f19b4e5",
   "metadata": {},
   "source": [
    "# Recall (Revocação):\n",
    "\n",
    "Recall (ou sensibilidade) é uma métrica usada para avaliar a capacidade do modelo de identificar corretamente as instâncias positivas, ou seja, ele mede a fração das instâncias positivas que foram corretamente identificadas pelo modelo, de modo que, a medida que $\\text{FN} \\rightarrow 0$, $\\text{Recall} \\rightarrow 1$. Podemos então defini-lo como,\n",
    "\n",
    "$$\\text{Recall} = \\frac{VP}{VP+FN}$$"
   ]
  },
  {
   "cell_type": "code",
   "execution_count": 60,
   "id": "4a3202f7-5497-4fad-9941-751f99685a04",
   "metadata": {},
   "outputs": [],
   "source": [
    "def recall(matConfusao):\n",
    "    '''\n",
    "    Função de \n",
    "    '''\n",
    "\n",
    "    # Extriando Elementos:\n",
    "    vp = matrizConfusion[1][1]\n",
    "    fn = matrizConfusion[1][0]\n",
    "\n",
    "    # Calcula o Recall:\n",
    "    recall = vp/(vp+fn)\n",
    "\n",
    "    return recall"
   ]
  },
  {
   "cell_type": "code",
   "execution_count": 78,
   "id": "7e53d6cf-4709-4b19-a85c-ee1c6a716a57",
   "metadata": {},
   "outputs": [
    {
     "name": "stdout",
     "output_type": "stream",
     "text": [
      "O recall do modelo é de 65.12%\n"
     ]
    }
   ],
   "source": [
    "# Checando o recall do modelo:\n",
    "rec = round(recall(matrizConfusion),4)*100 # Passando para porcentagem\n",
    "print(f'O recall do modelo é de {rec}%')"
   ]
  },
  {
   "cell_type": "code",
   "execution_count": 74,
   "id": "5beddae4-311e-4d99-baac-1365bc2d1c39",
   "metadata": {},
   "outputs": [],
   "source": [
    "# Importando a método de Recall:\n",
    "from sklearn.metrics import recall_score"
   ]
  },
  {
   "cell_type": "code",
   "execution_count": 75,
   "id": "c9c6a6ad-9016-4685-b150-7beeb5388d82",
   "metadata": {},
   "outputs": [
    {
     "data": {
      "text/plain": [
       "0.6511713705958311"
      ]
     },
     "execution_count": 75,
     "metadata": {},
     "output_type": "execute_result"
    }
   ],
   "source": [
    "recall_score(ytrain5, y_train_pred)"
   ]
  },
  {
   "cell_type": "markdown",
   "id": "7cc884fa-7edc-4ad1-ac6c-616f94966e80",
   "metadata": {},
   "source": [
    "# F1-Score:\n",
    "\n",
    "O **F1 Score** é a **média harmônica de precisão e recuperação**. Esta métrica dá peso igual à precisão e ao recall, portanto leva em consideração tanto o número de erros cometidos pelo modelo quanto o tipo de erros. O F1 Score favorece modelos com precisão e recall semelhantes e é uma métrica útil se estivermos buscando um modelo com desempenho razoavelmente bom em ambas as métricas.\n",
    "\n",
    "$$\\text{F1-Score}=\\frac{2}{\\frac{1}{\\text{Precisão}}+\\frac{1}{\\text{Recall}}}=\\frac{2\\times\\text{Recall}\\times\\text{Precisão}}{\\text{Recall}+\\text{Precisão}}$$"
   ]
  },
  {
   "cell_type": "code",
   "execution_count": 82,
   "id": "7de19f78-1498-4757-ada0-505ef50aa512",
   "metadata": {},
   "outputs": [],
   "source": [
    "def f1Score(matConfusao):\n",
    "\n",
    "    # Calculando F1-Score:\n",
    "    f1score = 2*recall(matConfusao)*precisao(matConfusao)/(recall(matConfusao)+precisao(matConfusao))\n",
    "\n",
    "    return f1score"
   ]
  },
  {
   "cell_type": "code",
   "execution_count": 84,
   "id": "94c5b4ed-69d0-436f-b0bf-daae2cd9ea05",
   "metadata": {},
   "outputs": [
    {
     "name": "stdout",
     "output_type": "stream",
     "text": [
      "A precisão do modelo é de 73.25%\n"
     ]
    }
   ],
   "source": [
    "# Checando o F1-Score do modelo:\n",
    "f1score = round(f1Score(matrizConfusion),4)*100 # Passando para porcentagem\n",
    "print(f'A precisão do modelo é de {f1score}%')"
   ]
  },
  {
   "cell_type": "code",
   "execution_count": 85,
   "id": "dad43a77-fb04-4879-bf63-470b44080dac",
   "metadata": {},
   "outputs": [],
   "source": [
    "# Importando F1-Score do Sklean\n",
    "from sklearn.metrics import f1_score"
   ]
  },
  {
   "cell_type": "code",
   "execution_count": 86,
   "id": "8d78ebbc-cc40-4973-ac07-8d554f42473c",
   "metadata": {},
   "outputs": [
    {
     "data": {
      "text/plain": [
       "0.7325171197343847"
      ]
     },
     "execution_count": 86,
     "metadata": {},
     "output_type": "execute_result"
    }
   ],
   "source": [
    "# F1-Score:\n",
    "f1_score(ytrain5, y_train_pred)"
   ]
  },
  {
   "cell_type": "markdown",
   "id": "34e66470-0120-49db-bde0-1550742a4193",
   "metadata": {},
   "source": [
    "# *Tradeoff* entre Precisão vs Recall:\n",
    "\n",
    "Para entender esse *Tradeoff*, vamos analisar como o `SGDClassifier` toma suas decisões de classificação. Para cada instância, ele calcula uma pontuação com base em uma função de decisão e, se essa pontuação for maior que um determinado limiar, ele atribui a instância à classe positiva; caso contrário, ele a atribui à classe negativa. A Figura 3-3 mostra alguns dígitos posicionados da menor pontuação, à esquerda, até a maior pontuação, à direita. Suponha que o limiar de decisão esteja posicionado na seta central (entre os dois dígitos 5): você encontrará 4 verdadeiros positivos (5s reais) à direita desse limiar e um falso positivo (na verdade, um 6). Portanto, com esse limiar, a precisão é de 80% (4 em 5). Mas, de 6 dígitos 5 reais, o classificador detecta apenas 4, então o recall é de 67% (4 em 6). Agora, se você aumentar o limiar (movê-lo para a seta à direita), o falso positivo (o dígito 6) se torna um verdadeiro negativo, aumentando assim a precisão (até 100% neste caso), mas um verdadeiro positivo se torna um falso negativo, diminuindo o recall para 50%. Por outro lado, baixar o limiar aumenta o recall e reduz a precisão."
   ]
  },
  {
   "cell_type": "code",
   "execution_count": null,
   "id": "53bd8ca8-698e-4a44-8098-0fa32e1a3424",
   "metadata": {},
   "outputs": [],
   "source": []
  }
 ],
 "metadata": {
  "kernelspec": {
   "display_name": "Python 3 (ipykernel)",
   "language": "python",
   "name": "python3"
  },
  "language_info": {
   "codemirror_mode": {
    "name": "ipython",
    "version": 3
   },
   "file_extension": ".py",
   "mimetype": "text/x-python",
   "name": "python",
   "nbconvert_exporter": "python",
   "pygments_lexer": "ipython3",
   "version": "3.10.13"
  }
 },
 "nbformat": 4,
 "nbformat_minor": 5
}
