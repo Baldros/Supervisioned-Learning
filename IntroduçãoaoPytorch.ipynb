{
  "nbformat": 4,
  "nbformat_minor": 0,
  "metadata": {
    "colab": {
      "provenance": [],
      "authorship_tag": "ABX9TyP5iFlI20aQcRVJmxiffCBx",
      "include_colab_link": true
    },
    "kernelspec": {
      "name": "python3",
      "display_name": "Python 3"
    },
    "language_info": {
      "name": "python"
    }
  },
  "cells": [
    {
      "cell_type": "markdown",
      "metadata": {
        "id": "view-in-github",
        "colab_type": "text"
      },
      "source": [
        "<a href=\"https://colab.research.google.com/github/Baldros/Supervisioned-Learning/blob/main/Introdu%C3%A7%C3%A3oaoPytorch.ipynb\" target=\"_parent\"><img src=\"https://colab.research.google.com/assets/colab-badge.svg\" alt=\"Open In Colab\"/></a>"
      ]
    },
    {
      "cell_type": "markdown",
      "source": [
        "# Apresentação:\n",
        "\n",
        "    Codigo construido para começar a estudar o processo de construção\n",
        "    de redes neurais utilizando a biblioteca pytorch.\n",
        "\n",
        "    O PyTorch é uma biblioteca de código aberto para aprendizado\n",
        "    profundo (deep learning) em Python desenvolvida pelo Facebook\n",
        "    AI Research (FAIR) e lançado em 2016. Ele oferece tensores dinâmicos,\n",
        "    facilitando a construção e treinamento de redes neurais.\n",
        "\n",
        "\n",
        "\n",
        "\n"
      ],
      "metadata": {
        "id": "kKLEgZZcfUoU"
      }
    },
    {
      "cell_type": "code",
      "execution_count": null,
      "metadata": {
        "id": "HLaYFJ4WfPVv"
      },
      "outputs": [],
      "source": [
        "import torch\n",
        "import numpy as np"
      ]
    },
    {
      "cell_type": "markdown",
      "source": [
        "# Introdução - tensores vs arrays(numpy):\n",
        "\n",
        "    Tensores arrays (numpy) tem muito em comum.\n",
        "    Ambas são representação de objetos matemáticos\n",
        "    da algebra linear, ou seja, aqui estamos trabalhando\n",
        "    com matrizes.\n",
        "\n",
        "    Arrays numpy possuem algumas vantagens com relação\n",
        "    ao desempenho na hora de se fazer calculos matriciais.\n",
        "    Os tensores possuem algumas vantagens na hora de se\n",
        "    fazer calculos matriciais para as redes neurais.\n",
        "\n",
        "    Resumidamente, tensores e arrays tratam do mesmo\n",
        "    objeto matemático, matrizes, porêm em contextos\n",
        "    computacionais diferentes."
      ],
      "metadata": {
        "id": "GwleBE8hhKzx"
      }
    },
    {
      "cell_type": "code",
      "source": [
        "# Exemplo 1:\n",
        "array = [1,2,3],[4,5,6]\n",
        "tensor = torch.tensor(array)"
      ],
      "metadata": {
        "id": "T_4iq6IwfT29"
      },
      "execution_count": null,
      "outputs": []
    },
    {
      "cell_type": "code",
      "source": [
        "# Exemplo 2:\n",
        "np_array = np.array(array)\n",
        "np_tensor = torch.from_numpy(np_array)"
      ],
      "metadata": {
        "id": "rvxC88EJf4uk"
      },
      "execution_count": null,
      "outputs": []
    },
    {
      "cell_type": "markdown",
      "source": [
        "    Como arrays numpy, tensores são multidimensionais,\n",
        "    representando uma coleção de elementos\n",
        "    dispostos em uma grade com multiplas dimensões."
      ],
      "metadata": {
        "id": "yU_IW0f2got1"
      }
    },
    {
      "cell_type": "code",
      "source": [
        "tensor.shape"
      ],
      "metadata": {
        "colab": {
          "base_uri": "https://localhost:8080/"
        },
        "id": "cQKS_hSmg98s",
        "outputId": "370f103d-6b3e-4cc4-f6a0-c632d63db321"
      },
      "execution_count": null,
      "outputs": [
        {
          "output_type": "execute_result",
          "data": {
            "text/plain": [
              "torch.Size([2, 3])"
            ]
          },
          "metadata": {},
          "execution_count": 10
        }
      ]
    },
    {
      "cell_type": "code",
      "source": [
        "tensor.dtype"
      ],
      "metadata": {
        "colab": {
          "base_uri": "https://localhost:8080/"
        },
        "id": "6hkoZSd_hJ3N",
        "outputId": "7b999b00-a36d-459c-d3b5-11b09169340a"
      },
      "execution_count": null,
      "outputs": [
        {
          "output_type": "execute_result",
          "data": {
            "text/plain": [
              "torch.int64"
            ]
          },
          "metadata": {},
          "execution_count": 11
        }
      ]
    },
    {
      "cell_type": "code",
      "source": [
        "tensor.device"
      ],
      "metadata": {
        "colab": {
          "base_uri": "https://localhost:8080/"
        },
        "id": "p4_yuvYphTXz",
        "outputId": "95e826c7-dfb8-4ce4-a7a8-34bfa7f8562a"
      },
      "execution_count": null,
      "outputs": [
        {
          "output_type": "execute_result",
          "data": {
            "text/plain": [
              "device(type='cpu')"
            ]
          },
          "metadata": {},
          "execution_count": 12
        }
      ]
    },
    {
      "cell_type": "markdown",
      "source": [
        "    Note que esse método um array numpy não possui,\n",
        "    porque não faz muito sentido para o contexto do numpy\n",
        "    saber esse tipo de coisa.\n",
        "    \n",
        "    Já no contexto de redes neurais, isso é um conhecimento\n",
        "    interessante. Entende a diferença? Está nos detalhes.\n",
        "    Você consegue fazer redes de aprendizado profundo com\n",
        "    numpy, mas o pytorch já da mais informações de forma mais\n",
        "    mastigada."
      ],
      "metadata": {
        "id": "RHC4TV6ihXGb"
      }
    },
    {
      "cell_type": "markdown",
      "source": [
        "    Aprendizado profundo geralmente requer uma GPU, que,\n",
        "    comparada a CPU pode oferecer recursos de computação\n",
        "    paralela, tempos de treinamento mais rápidos e melhor\n",
        "    desempenho."
      ],
      "metadata": {
        "id": "96uC8QiGitaV"
      }
    },
    {
      "cell_type": "code",
      "source": [
        "print(tensor)\n",
        "print(tensor.T)"
      ],
      "metadata": {
        "colab": {
          "base_uri": "https://localhost:8080/"
        },
        "id": "ZihzGC5Bi_oc",
        "outputId": "a9539487-428a-465f-98ab-8351d571d260"
      },
      "execution_count": null,
      "outputs": [
        {
          "output_type": "stream",
          "name": "stdout",
          "text": [
            "tensor([[1, 2, 3],\n",
            "        [4, 5, 6]])\n",
            "tensor([[1, 4],\n",
            "        [2, 5],\n",
            "        [3, 6]])\n"
          ]
        }
      ]
    },
    {
      "cell_type": "code",
      "source": [],
      "metadata": {
        "id": "MRLxGD-RjLL8"
      },
      "execution_count": null,
      "outputs": []
    },
    {
      "cell_type": "markdown",
      "source": [
        "# Construindo uma Rede Neural:"
      ],
      "metadata": {
        "id": "L-9VoHnHk0nr"
      }
    },
    {
      "cell_type": "markdown",
      "source": [
        "## T1"
      ],
      "metadata": {
        "id": "AOTsVnkCmqrg"
      }
    },
    {
      "cell_type": "code",
      "source": [
        "import torch.nn as nn"
      ],
      "metadata": {
        "id": "Ba_s-pcLk36l"
      },
      "execution_count": null,
      "outputs": []
    },
    {
      "cell_type": "code",
      "source": [
        "# Construindo a camada de entrada:\n",
        "input_tensor = torch.tensor(\n",
        "    [[0.3471,0.4547,0.-2356]]\n",
        ")"
      ],
      "metadata": {
        "id": "2RrYx-65lGcV"
      },
      "execution_count": null,
      "outputs": []
    },
    {
      "cell_type": "markdown",
      "source": [
        "    Aqui temos um tensor com três neurônios."
      ],
      "metadata": {
        "id": "WgOarvL1lUyO"
      }
    },
    {
      "cell_type": "code",
      "source": [
        "# Definindo a camada linear:\n",
        "linear_layer = nn.Linear(in_features=3,out_features=2)"
      ],
      "metadata": {
        "id": "06U0GEhzlfHt"
      },
      "execution_count": null,
      "outputs": []
    },
    {
      "cell_type": "markdown",
      "source": [
        "    Uma camada linear pega um tensor de entrada, aplica a\n",
        "    função linear a ele e retorna uma saída."
      ],
      "metadata": {
        "id": "gSRIfYXllwYA"
      }
    },
    {
      "cell_type": "code",
      "source": [
        "# Gerando a saída:\n",
        "output = linear_layer(input_tensor);output"
      ],
      "metadata": {
        "colab": {
          "base_uri": "https://localhost:8080/"
        },
        "id": "26u6g_-2l9u9",
        "outputId": "0211660b-b53b-441e-a82d-c84f2e844963"
      },
      "execution_count": null,
      "outputs": [
        {
          "output_type": "execute_result",
          "data": {
            "text/plain": [
              "tensor([[-867.2303, 1338.0869]], grad_fn=<AddmmBackward0>)"
            ]
          },
          "metadata": {},
          "execution_count": 29
        }
      ]
    },
    {
      "cell_type": "code",
      "source": [
        "array = np.array([[0.3471,0.4547,0.-2356]])"
      ],
      "metadata": {
        "id": "BK7iJdg7nDWl"
      },
      "execution_count": null,
      "outputs": []
    },
    {
      "cell_type": "markdown",
      "source": [
        "## T2"
      ],
      "metadata": {
        "id": "mewL2uchmOi8"
      }
    },
    {
      "cell_type": "code",
      "source": [
        "model = nn.Sequential(\n",
        "    nn.Linear(10,18),\n",
        "    nn.Linear(18,20),\n",
        "    nn.Linear(20,5)\n",
        ")"
      ],
      "metadata": {
        "id": "Yz_jowA6mvOV"
      },
      "execution_count": null,
      "outputs": []
    },
    {
      "cell_type": "code",
      "source": [
        "print(input_tensor)"
      ],
      "metadata": {
        "colab": {
          "base_uri": "https://localhost:8080/"
        },
        "id": "3KzocYVrm-IN",
        "outputId": "12d38e88-c283-456e-ee41-ca7c5f68d51a"
      },
      "execution_count": null,
      "outputs": [
        {
          "output_type": "stream",
          "name": "stdout",
          "text": [
            "tensor([[ 3.4710e-01,  4.5470e-01, -2.3560e+03]])\n"
          ]
        }
      ]
    },
    {
      "cell_type": "code",
      "source": [],
      "metadata": {
        "id": "tizfZ_P9nZLl"
      },
      "execution_count": null,
      "outputs": []
    }
  ]
}